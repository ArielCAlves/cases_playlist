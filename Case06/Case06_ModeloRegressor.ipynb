{
 "cells": [
  {
   "cell_type": "markdown",
   "id": "b73d4fa7",
   "metadata": {},
   "source": [
    "### Objetivo: Construir um bom modelo Regressor"
   ]
  },
  {
   "cell_type": "code",
   "execution_count": 1,
   "id": "57a5cba9",
   "metadata": {},
   "outputs": [],
   "source": [
    "# !pip install -q -U watermark"
   ]
  },
  {
   "cell_type": "code",
   "execution_count": 2,
   "id": "1398af8d",
   "metadata": {},
   "outputs": [],
   "source": [
    "import pandas as pd\n",
    "import numpy as np\n",
    "\n",
    "import matplotlib.pyplot as plt\n",
    "import seaborn as sns\n",
    "\n",
    "from sklearn.model_selection import train_test_split, RandomizedSearchCV\n",
    "from sklearn.neighbors import KNeighborsRegressor\n",
    "from sklearn.metrics import mean_absolute_error, mean_squared_error, r2_score\n",
    "from sklearn import datasets\n",
    "from sklearn.preprocessing import StandardScaler\n",
    "from sklearn.linear_model import LinearRegression\n",
    "from sklearn.ensemble import RandomForestRegressor, ExtraTreesRegressor\n",
    "\n",
    "import statsmodels.api as sm\n",
    "import statsmodels.formula.api as smf\n",
    "from statsmodels.stats.outliers_influence import variance_inflation_factor\n",
    "from statsmodels.stats.power import TTestIndPower\n",
    "from scipy import stats\n",
    "\n",
    "import pickle\n",
    "\n",
    "import warnings\n",
    "warnings.filterwarnings(\"ignore\")"
   ]
  },
  {
   "cell_type": "code",
   "execution_count": 3,
   "id": "b3b46bb5",
   "metadata": {},
   "outputs": [
    {
     "name": "stdout",
     "output_type": "stream",
     "text": [
      "Author: Modelo Regressor\n",
      "\n",
      "statsmodels: 0.13.2\n",
      "scipy      : 1.13.1\n",
      "pandas     : 2.2.3\n",
      "seaborn    : 0.13.2\n",
      "matplotlib : 3.9.2\n",
      "sklearn    : 1.6.0\n",
      "numpy      : 1.26.4\n",
      "\n"
     ]
    }
   ],
   "source": [
    "%reload_ext watermark\n",
    "%watermark -a \"Modelo Regressor\"\n",
    "%watermark --iversions"
   ]
  },
  {
   "cell_type": "markdown",
   "id": "53993495",
   "metadata": {},
   "source": [
    "#### Dicionário de Dados: \n",
    "- mpg\t- Milhas/galão\n",
    "- cyl\t- Número de cilindros\n",
    "- disp\t- Deslocamento\n",
    "- hp\t- Horsepower (cavalos de potência)\n",
    "- drat\t- Relação do eixo traseiro\n",
    "- wt\t- Peso (1000 lbs)\n",
    "- qsec\t- 1/4 mile time (tempo que leva para percorrer 1/4 de milha)\n",
    "- vs\t- Motor (0 = turbo, 1 = normal)\n",
    "- am\t- Transmissão (0 = automática, 1 = manual)\n",
    "- gear\t- Número de engrenagens\n",
    "- carb\t- Número de carburadores\n",
    "\n",
    "\n",
    "Quinlan, R. (1993). Auto MPG [Dataset]. UCI Machine Learning Repository. https://doi.org/10.24432/C5859H."
   ]
  },
  {
   "cell_type": "code",
   "execution_count": 4,
   "id": "7987c018",
   "metadata": {},
   "outputs": [
    {
     "data": {
      "text/html": [
       "<div>\n",
       "<style scoped>\n",
       "    .dataframe tbody tr th:only-of-type {\n",
       "        vertical-align: middle;\n",
       "    }\n",
       "\n",
       "    .dataframe tbody tr th {\n",
       "        vertical-align: top;\n",
       "    }\n",
       "\n",
       "    .dataframe thead th {\n",
       "        text-align: right;\n",
       "    }\n",
       "</style>\n",
       "<table border=\"1\" class=\"dataframe\">\n",
       "  <thead>\n",
       "    <tr style=\"text-align: right;\">\n",
       "      <th></th>\n",
       "      <th>mpg</th>\n",
       "      <th>cyl</th>\n",
       "      <th>disp</th>\n",
       "      <th>hp</th>\n",
       "      <th>drat</th>\n",
       "      <th>wt</th>\n",
       "      <th>qsec</th>\n",
       "      <th>vs</th>\n",
       "      <th>am</th>\n",
       "      <th>gear</th>\n",
       "      <th>carb</th>\n",
       "    </tr>\n",
       "    <tr>\n",
       "      <th>rownames</th>\n",
       "      <th></th>\n",
       "      <th></th>\n",
       "      <th></th>\n",
       "      <th></th>\n",
       "      <th></th>\n",
       "      <th></th>\n",
       "      <th></th>\n",
       "      <th></th>\n",
       "      <th></th>\n",
       "      <th></th>\n",
       "      <th></th>\n",
       "    </tr>\n",
       "  </thead>\n",
       "  <tbody>\n",
       "    <tr>\n",
       "      <th>Mazda RX4</th>\n",
       "      <td>21.0</td>\n",
       "      <td>6</td>\n",
       "      <td>160.0</td>\n",
       "      <td>110</td>\n",
       "      <td>3.90</td>\n",
       "      <td>2.620</td>\n",
       "      <td>16.46</td>\n",
       "      <td>0</td>\n",
       "      <td>1</td>\n",
       "      <td>4</td>\n",
       "      <td>4</td>\n",
       "    </tr>\n",
       "    <tr>\n",
       "      <th>Mazda RX4 Wag</th>\n",
       "      <td>21.0</td>\n",
       "      <td>6</td>\n",
       "      <td>160.0</td>\n",
       "      <td>110</td>\n",
       "      <td>3.90</td>\n",
       "      <td>2.875</td>\n",
       "      <td>17.02</td>\n",
       "      <td>0</td>\n",
       "      <td>1</td>\n",
       "      <td>4</td>\n",
       "      <td>4</td>\n",
       "    </tr>\n",
       "    <tr>\n",
       "      <th>Datsun 710</th>\n",
       "      <td>22.8</td>\n",
       "      <td>4</td>\n",
       "      <td>108.0</td>\n",
       "      <td>93</td>\n",
       "      <td>3.85</td>\n",
       "      <td>2.320</td>\n",
       "      <td>18.61</td>\n",
       "      <td>1</td>\n",
       "      <td>1</td>\n",
       "      <td>4</td>\n",
       "      <td>1</td>\n",
       "    </tr>\n",
       "    <tr>\n",
       "      <th>Hornet 4 Drive</th>\n",
       "      <td>21.4</td>\n",
       "      <td>6</td>\n",
       "      <td>258.0</td>\n",
       "      <td>110</td>\n",
       "      <td>3.08</td>\n",
       "      <td>3.215</td>\n",
       "      <td>19.44</td>\n",
       "      <td>1</td>\n",
       "      <td>0</td>\n",
       "      <td>3</td>\n",
       "      <td>1</td>\n",
       "    </tr>\n",
       "    <tr>\n",
       "      <th>Hornet Sportabout</th>\n",
       "      <td>18.7</td>\n",
       "      <td>8</td>\n",
       "      <td>360.0</td>\n",
       "      <td>175</td>\n",
       "      <td>3.15</td>\n",
       "      <td>3.440</td>\n",
       "      <td>17.02</td>\n",
       "      <td>0</td>\n",
       "      <td>0</td>\n",
       "      <td>3</td>\n",
       "      <td>2</td>\n",
       "    </tr>\n",
       "  </tbody>\n",
       "</table>\n",
       "</div>"
      ],
      "text/plain": [
       "                    mpg  cyl   disp   hp  drat     wt   qsec  vs  am  gear  \\\n",
       "rownames                                                                     \n",
       "Mazda RX4          21.0    6  160.0  110  3.90  2.620  16.46   0   1     4   \n",
       "Mazda RX4 Wag      21.0    6  160.0  110  3.90  2.875  17.02   0   1     4   \n",
       "Datsun 710         22.8    4  108.0   93  3.85  2.320  18.61   1   1     4   \n",
       "Hornet 4 Drive     21.4    6  258.0  110  3.08  3.215  19.44   1   0     3   \n",
       "Hornet Sportabout  18.7    8  360.0  175  3.15  3.440  17.02   0   0     3   \n",
       "\n",
       "                   carb  \n",
       "rownames                 \n",
       "Mazda RX4             4  \n",
       "Mazda RX4 Wag         4  \n",
       "Datsun 710            1  \n",
       "Hornet 4 Drive        1  \n",
       "Hornet Sportabout     2  "
      ]
     },
     "execution_count": 4,
     "metadata": {},
     "output_type": "execute_result"
    }
   ],
   "source": [
    "df_mtcars = sm.datasets.get_rdataset(\"mtcars\", \"datasets\", cache=True).data\n",
    "df_mtcars.head()"
   ]
  },
  {
   "cell_type": "code",
   "execution_count": 5,
   "id": "cdb3047c",
   "metadata": {},
   "outputs": [
    {
     "data": {
      "text/plain": [
       "count    32.000000\n",
       "mean     20.090625\n",
       "std       6.026948\n",
       "min      10.400000\n",
       "25%      15.425000\n",
       "50%      19.200000\n",
       "75%      22.800000\n",
       "max      33.900000\n",
       "Name: mpg, dtype: float64"
      ]
     },
     "execution_count": 5,
     "metadata": {},
     "output_type": "execute_result"
    }
   ],
   "source": [
    "df_mtcars.mpg.describe()"
   ]
  },
  {
   "cell_type": "code",
   "execution_count": 6,
   "id": "4c479677",
   "metadata": {},
   "outputs": [
    {
     "data": {
      "image/png": "[encoded data removed]",
      "text/plain": [
       "<Figure size 432x288 with 1 Axes>"
      ]
     },
     "metadata": {},
     "output_type": "display_data"
    }
   ],
   "source": [
    "cyl_freq = df_mtcars['cyl'].value_counts().sort_index()\n",
    "\n",
    "labels = [f\"{label} cilindros\" for label in cyl_freq.index]\n",
    "\n",
    "colors = ['#FFB3BA', '#BAFFC9', '#BAE1FF']\n",
    "\n",
    "plt.pie(cyl_freq, labels=labels, colors=colors[:len(labels)], autopct='%1.1f%%')\n",
    "plt.title(\"% de Carros Por Número de Cilindros\")\n",
    "plt.show()"
   ]
  },
  {
   "cell_type": "code",
   "execution_count": 7,
   "id": "eed56fa2",
   "metadata": {},
   "outputs": [
    {
     "data": {
      "image/png": "[encoded data removed]",
      "text/plain": [
       "<Figure size 432x288 with 1 Axes>"
      ]
     },
     "metadata": {
      "needs_background": "light"
     },
     "output_type": "display_data"
    }
   ],
   "source": [
    "# Scatter Plot - MPG vs HP\n",
    "plt.scatter(df_mtcars['mpg'], df_mtcars['hp'])\n",
    "plt.title(\"MPG (Autonomia) vs HP (Potência)\")\n",
    "plt.xlabel(\"MPG (Autonomia)\")\n",
    "plt.ylabel(\"HP (Potência)\")\n",
    "plt.show()"
   ]
  },
  {
   "cell_type": "code",
   "execution_count": 8,
   "id": "8b5ca961",
   "metadata": {},
   "outputs": [
    {
     "data": {
      "image/png": "[encoded data removed]",
      "text/plain": [
       "<Figure size 432x288 with 1 Axes>"
      ]
     },
     "metadata": {
      "needs_background": "light"
     },
     "output_type": "display_data"
    }
   ],
   "source": [
    "# Histograma da variável MPG\n",
    "plt.hist(df_mtcars['mpg'], bins=10, edgecolor='black')\n",
    "plt.xlabel(\"Milhas Por Galão\")\n",
    "plt.title(\"Histograma da Variável MPG\")\n",
    "plt.xlim(10, 35)\n",
    "plt.show()"
   ]
  },
  {
   "cell_type": "code",
   "execution_count": 9,
   "id": "d7f3ae37",
   "metadata": {},
   "outputs": [
    {
     "data": {
      "image/png": "[encoded data removed]",
      "text/plain": [
       "<Figure size 576x432 with 1 Axes>"
      ]
     },
     "metadata": {
      "needs_background": "light"
     },
     "output_type": "display_data"
    }
   ],
   "source": [
    "df_mtcars['am_label'] = df_mtcars['am'].map({0: 'automatic', 1: 'manual'})\n",
    "\n",
    "plt.figure(figsize=(8, 6))\n",
    "sns.violinplot(x='am_label', y='mpg', data=df_mtcars, hue='am_label', inner=None, linewidth=1.5, palette={'automatic': 'lightblue', 'manual': 'lightcoral'})\n",
    "\n",
    "plt.xlabel(\"Transmissão\")\n",
    "plt.ylabel(\"MPG\")\n",
    "plt.title(\"Distribuição de MPG por Tipo de Transmissão\")\n",
    "plt.legend(title='Transmissão', loc='upper right', labels=['Manual','Automatic'])\n",
    "plt.show()"
   ]
  },
  {
   "cell_type": "markdown",
   "id": "5a63d090",
   "metadata": {},
   "source": [
    "### Welch Test\n",
    "- H0: as médias são iguais\n",
    "- H1: as médias são diferentes"
   ]
  },
  {
   "cell_type": "code",
   "execution_count": 10,
   "id": "f24f2c69",
   "metadata": {},
   "outputs": [
    {
     "name": "stdout",
     "output_type": "stream",
     "text": [
      "Estatística t: -3.7671\n",
      "Valor-p: 0.0014\n"
     ]
    }
   ],
   "source": [
    "mpg_automatic = df_mtcars[df_mtcars['am'] == 0]['mpg']\n",
    "mpg_manual = df_mtcars[df_mtcars['am'] == 1]['mpg']\n",
    "\n",
    "t_statistic, p_value = stats.ttest_ind(mpg_automatic, mpg_manual, equal_var=False)\n",
    "\n",
    "print(f\"Estatística t: {t_statistic:.4f}\")\n",
    "print(f\"Valor-p: {p_value:.4f}\")"
   ]
  },
  {
   "cell_type": "markdown",
   "id": "29ec82fa",
   "metadata": {},
   "source": [
    "#### Interpretação do Teste: Rejeita hipótese nula, as médias são diferentes."
   ]
  },
  {
   "cell_type": "markdown",
   "id": "6a597740",
   "metadata": {},
   "source": [
    "### Shapiro Test para verificar a normalidade\n",
    "- H0: os dados são normalmente distribuídos\n",
    "- H1: os dados não são normalmente distribuídos"
   ]
  },
  {
   "cell_type": "code",
   "execution_count": 11,
   "id": "94026356",
   "metadata": {},
   "outputs": [
    {
     "name": "stdout",
     "output_type": "stream",
     "text": [
      "Teste de Shapiro-Wilk para MPG (Automatic):\n",
      "Estatística W: 0.9768\n",
      "Valor-p: 0.8987\n",
      "\n",
      "Teste de Shapiro-Wilk para MPG (Manual):\n",
      "Estatística W: 0.9458\n",
      "Valor-p: 0.5363\n"
     ]
    }
   ],
   "source": [
    "df_mtcars['am_label'] = df_mtcars['am'].map({0: 'automatic', 1: 'manual'})\n",
    "\n",
    "mpg_automatic = df_mtcars[df_mtcars['am_label'] == 'automatic']['mpg']\n",
    "mpg_manual = df_mtcars[df_mtcars['am_label'] == 'manual']['mpg']\n",
    "\n",
    "shapiro_automatic = stats.shapiro(mpg_automatic)\n",
    "shapiro_manual = stats.shapiro(mpg_manual)\n",
    "\n",
    "print(\"Teste de Shapiro-Wilk para MPG (Automatic):\")\n",
    "print(f\"Estatística W: {shapiro_automatic.statistic:.4f}\")\n",
    "print(f\"Valor-p: {shapiro_automatic.pvalue:.4f}\")\n",
    "\n",
    "print(\"\\nTeste de Shapiro-Wilk para MPG (Manual):\")\n",
    "print(f\"Estatística W: {shapiro_manual.statistic:.4f}\")\n",
    "print(f\"Valor-p: {shapiro_manual.pvalue:.4f}\")"
   ]
  },
  {
   "cell_type": "markdown",
   "id": "792e3353",
   "metadata": {},
   "source": [
    "#### Interpretação do Teste: ambas as distribuições possuem p-value maior que 0.05, ou seja, não há evidências estatísticas suficientes para rejeitar a hipótese nula para nenhum dos dois tipos de transmissão. Os dados seguem um distribuição normal com o câmbio sendo automático ou não."
   ]
  },
  {
   "cell_type": "markdown",
   "id": "7d0dddbd",
   "metadata": {},
   "source": [
    "### Barlett Test\n",
    "- H0: variâncias são iguais para todas as amostras\n",
    "- H1: variâncias não são iguais para todas as amostras"
   ]
  },
  {
   "cell_type": "code",
   "execution_count": 12,
   "id": "c8637ecd",
   "metadata": {},
   "outputs": [
    {
     "name": "stdout",
     "output_type": "stream",
     "text": [
      "Estatística de Bartlett: 3.2259\n",
      "Valor-p: 0.0725\n"
     ]
    }
   ],
   "source": [
    "mpg_automatic = df_mtcars[df_mtcars['am_label'] == 'automatic']['mpg']\n",
    "mpg_manual = df_mtcars[df_mtcars['am_label'] == 'manual']['mpg']\n",
    "\n",
    "\n",
    "statistic, p_value = stats.bartlett(mpg_automatic, mpg_manual)\n",
    "\n",
    "print(f\"Estatística de Bartlett: {statistic:.4f}\")\n",
    "print(f\"Valor-p: {p_value:.4f}\")"
   ]
  },
  {
   "cell_type": "markdown",
   "id": "c08dac81",
   "metadata": {},
   "source": [
    "#### Interpretação do Teste: não rejeitamos a hipótese nula e podemos assumir que as variâncias são iguais para todas as amostras. Ambas as suposições são verdadeiras e o teste inicial foi validado com sucesso."
   ]
  },
  {
   "cell_type": "markdown",
   "id": "47f067ce",
   "metadata": {},
   "source": [
    "### Student - Desta vez sabendo que as variâncias são iguais devidamente validadas\n",
    "Os pressupostos foram atendidos: distribuições normais e variâncias iguais"
   ]
  },
  {
   "cell_type": "code",
   "execution_count": 13,
   "id": "abb118e5",
   "metadata": {},
   "outputs": [
    {
     "name": "stdout",
     "output_type": "stream",
     "text": [
      "Estatística t: -4.1061\n",
      "Valor-p: 0.0003\n"
     ]
    }
   ],
   "source": [
    "t_statistic, p_value = stats.ttest_ind(mpg_automatic, mpg_manual, equal_var=True)\n",
    "\n",
    "print(f\"Estatística t: {t_statistic:.4f}\")\n",
    "print(f\"Valor-p: {p_value:.4f}\")"
   ]
  },
  {
   "cell_type": "markdown",
   "id": "32e087da",
   "metadata": {},
   "source": [
    "#### Interpretação do Teste: o consumo de combustível é diferente de acordo com o tipo de câmbio. Mas qual é a força desse teste?"
   ]
  },
  {
   "cell_type": "code",
   "execution_count": 14,
   "id": "ef868c0e",
   "metadata": {},
   "outputs": [
    {
     "data": {
      "text/plain": [
       "am_label\n",
       "automatic    19\n",
       "manual       13\n",
       "Name: count, dtype: int64"
      ]
     },
     "execution_count": 14,
     "metadata": {},
     "output_type": "execute_result"
    }
   ],
   "source": [
    "counts = df_mtcars['am_label'].value_counts()\n",
    "counts"
   ]
  },
  {
   "cell_type": "code",
   "execution_count": 58,
   "id": "f5705034",
   "metadata": {},
   "outputs": [
    {
     "name": "stdout",
     "output_type": "stream",
     "text": [
      "Power do teste: 1.0000\n"
     ]
    }
   ],
   "source": [
    "nobs1 = counts['automatic']\n",
    "nobs2 = counts['manual']\n",
    "effect_size = abs(t_statistic) / ((1/nobs1 + 1/nobs2)**0.5)  # Converte t para d de Cohen\n",
    "alpha = 0.05\n",
    "\n",
    "power_analysis = TTestIndPower()\n",
    "\n",
    "power = power_analysis.power(\n",
    "                             effect_size=effect_size,\n",
    "                             nobs1=nobs1,\n",
    "                             ratio=nobs2/nobs1,\n",
    "                             alpha=alpha,\n",
    "                             alternative='two-sided'\n",
    "                            )\n",
    "\n",
    "\n",
    "print(f\"Power do teste: {power:.4f}\")"
   ]
  },
  {
   "cell_type": "markdown",
   "id": "d3d20cc3",
   "metadata": {},
   "source": [
    "##### Interpretação do resultado final: agora posso afirmar que as médias realmente são diferentes e não apenas fruto do acaso. A transmissão manual é diferente da transmissão automática no consumo de combustível"
   ]
  },
  {
   "cell_type": "markdown",
   "id": "721582da",
   "metadata": {},
   "source": [
    "### Forma visual"
   ]
  },
  {
   "cell_type": "code",
   "execution_count": 16,
   "id": "1d301b17",
   "metadata": {},
   "outputs": [
    {
     "data": {
      "image/png": "[encoded data removed]",
      "text/plain": [
       "<Figure size 576x432 with 1 Axes>"
      ]
     },
     "metadata": {
      "needs_background": "light"
     },
     "output_type": "display_data"
    }
   ],
   "source": [
    "plt.figure(figsize=(8, 6))\n",
    "sns.boxplot(x='am_label', y='mpg', data=df_mtcars, palette='pastel', hue=None)\n",
    "\n",
    "plt.xlabel('Transmissão')\n",
    "plt.ylabel('MPG')\n",
    "plt.title('Boxplot de MPG por Tipo de Transmissão')\n",
    "plt.show()"
   ]
  },
  {
   "cell_type": "code",
   "execution_count": null,
   "id": "2fd66023",
   "metadata": {},
   "outputs": [],
   "source": []
  },
  {
   "cell_type": "markdown",
   "id": "83ee5c81",
   "metadata": {},
   "source": [
    "## Será que há modelo?\n",
    "Vamos usar mínimos quadrados (OLS)\n",
    "![OLS](img/ols.png)\n",
    "Imagem de exemplo retirado de https://dataat.github.io/introducao-ao-machine-learning/regress%C3%A3o.html"
   ]
  },
  {
   "cell_type": "markdown",
   "id": "a9b46795",
   "metadata": {},
   "source": [
    "$$\n",
    "y_i = \\beta_0 + \\beta_1 x_i + \\epsilon_i\n",
    "$$\n",
    "\n",
    "$$\n",
    "y_i: \\quad \\text{Valor observado da variável dependente}\n",
    "$$\n",
    "\n",
    "$$\n",
    "\\beta_0: \\quad \\text{Intercepto (constante)}\n",
    "$$\n",
    "\n",
    "$$\n",
    "\\beta_1: \\quad \\text{Coeficiente angular (inclinação da reta)}\n",
    "$$\n",
    "\n",
    "$$\n",
    "x_i: \\quad \\text{Valor observado da variável independente}\n",
    "$$\n",
    "\n",
    "$$\n",
    "\\epsilon_i: \\quad \\text{Erro (resíduo/epsilon) da observação } i\n",
    "$$"
   ]
  },
  {
   "cell_type": "markdown",
   "id": "17d20cf8",
   "metadata": {},
   "source": [
    "$$\n",
    "\\beta = \\frac{ \\sum (x_i y_i) - n \\bar{x} \\bar{y} }{ \\sum (x_i^2) - n \\bar{x}^2 }\n",
    "$$"
   ]
  },
  {
   "cell_type": "code",
   "execution_count": null,
   "id": "b9d8adc4",
   "metadata": {},
   "outputs": [],
   "source": []
  },
  {
   "cell_type": "markdown",
   "id": "77a20d5f",
   "metadata": {},
   "source": [
    "### Modelo 1"
   ]
  },
  {
   "cell_type": "code",
   "execution_count": 17,
   "id": "03cff12a",
   "metadata": {},
   "outputs": [
    {
     "name": "stdout",
     "output_type": "stream",
     "text": [
      "                            OLS Regression Results                            \n",
      "==============================================================================\n",
      "Dep. Variable:                    mpg   R-squared:                       0.360\n",
      "Model:                            OLS   Adj. R-squared:                  0.338\n",
      "Method:                 Least Squares   F-statistic:                     16.86\n",
      "Date:                Mon, 28 Apr 2025   Prob (F-statistic):           0.000285\n",
      "Time:                        23:55:04   Log-Likelihood:                -95.242\n",
      "No. Observations:                  32   AIC:                             194.5\n",
      "Df Residuals:                      30   BIC:                             197.4\n",
      "Df Model:                           1                                         \n",
      "Covariance Type:            nonrobust                                         \n",
      "==============================================================================\n",
      "                 coef    std err          t      P>|t|      [0.025      0.975]\n",
      "------------------------------------------------------------------------------\n",
      "const         17.1474      1.125     15.247      0.000      14.851      19.444\n",
      "am             7.2449      1.764      4.106      0.000       3.642      10.848\n",
      "==============================================================================\n",
      "Omnibus:                        0.480   Durbin-Watson:                   1.065\n",
      "Prob(Omnibus):                  0.787   Jarque-Bera (JB):                0.589\n",
      "Skew:                           0.051   Prob(JB):                        0.745\n",
      "Kurtosis:                       2.343   Cond. No.                         2.46\n",
      "==============================================================================\n",
      "\n",
      "Notes:\n",
      "[1] Standard Errors assume that the covariance matrix of the errors is correctly specified.\n"
     ]
    }
   ],
   "source": [
    "X = df_mtcars['am']\n",
    "y = df_mtcars['mpg']\n",
    "X = sm.add_constant(X)\n",
    "model = sm.OLS(y, X).fit()\n",
    "print(model.summary())"
   ]
  },
  {
   "cell_type": "code",
   "execution_count": 18,
   "id": "df4a23cc",
   "metadata": {},
   "outputs": [
    {
     "name": "stdout",
     "output_type": "stream",
     "text": [
      "\n",
      "Coeficientes com Significância:\n",
      "const: 17.1474 ***\n",
      "am: 7.2449 ***\n"
     ]
    }
   ],
   "source": [
    "# Avaliação da significância da variável\n",
    "# Quando aparecer com * terá significância\n",
    "def format_significance(p_value):\n",
    "    if p_value < 0.001:\n",
    "        return '***'\n",
    "    elif p_value < 0.01:\n",
    "        return '**'\n",
    "    elif p_value < 0.05:\n",
    "        return '*'\n",
    "    elif p_value < 0.1:\n",
    "        return '.'\n",
    "    else:\n",
    "        return ''\n",
    "\n",
    "print(\"\\nCoeficientes com Significância:\")\n",
    "for i, (coef, p_val) in enumerate(zip(model.params, model.pvalues)):\n",
    "    significance = format_significance(p_val)\n",
    "    print(f\"{model.params.index[i]}: {coef:.4f} {significance}\")"
   ]
  },
  {
   "cell_type": "markdown",
   "id": "b626493d",
   "metadata": {},
   "source": [
    "Câmbio como variável categórica"
   ]
  },
  {
   "cell_type": "code",
   "execution_count": 19,
   "id": "b04e7275",
   "metadata": {},
   "outputs": [
    {
     "name": "stdout",
     "output_type": "stream",
     "text": [
      "                            OLS Regression Results                            \n",
      "==============================================================================\n",
      "Dep. Variable:                    mpg   R-squared:                       0.360\n",
      "Model:                            OLS   Adj. R-squared:                  0.338\n",
      "Method:                 Least Squares   F-statistic:                     16.86\n",
      "Date:                Mon, 28 Apr 2025   Prob (F-statistic):           0.000285\n",
      "Time:                        23:55:04   Log-Likelihood:                -95.242\n",
      "No. Observations:                  32   AIC:                             194.5\n",
      "Df Residuals:                      30   BIC:                             197.4\n",
      "Df Model:                           1                                         \n",
      "Covariance Type:            nonrobust                                         \n",
      "==============================================================================\n",
      "                 coef    std err          t      P>|t|      [0.025      0.975]\n",
      "------------------------------------------------------------------------------\n",
      "Intercept     17.1474      1.125     15.247      0.000      14.851      19.444\n",
      "C(am)[T.1]     7.2449      1.764      4.106      0.000       3.642      10.848\n",
      "==============================================================================\n",
      "Omnibus:                        0.480   Durbin-Watson:                   1.065\n",
      "Prob(Omnibus):                  0.787   Jarque-Bera (JB):                0.589\n",
      "Skew:                           0.051   Prob(JB):                        0.745\n",
      "Kurtosis:                       2.343   Cond. No.                         2.46\n",
      "==============================================================================\n",
      "\n",
      "Notes:\n",
      "[1] Standard Errors assume that the covariance matrix of the errors is correctly specified.\n"
     ]
    }
   ],
   "source": [
    "df_mtcars['am'] = df_mtcars['am'].astype('category')\n",
    "model = smf.ols('mpg ~ C(am)', data=df_mtcars).fit()\n",
    "print(model.summary())"
   ]
  },
  {
   "cell_type": "code",
   "execution_count": null,
   "id": "9b3988a3",
   "metadata": {},
   "outputs": [],
   "source": []
  },
  {
   "cell_type": "markdown",
   "id": "9682a150",
   "metadata": {},
   "source": [
    "### Modelo 2\n",
    "#### Avaliação de todas as variáveis para ver se são estatisticamente significantes\n",
    "Apenas para efeitos didáticos"
   ]
  },
  {
   "cell_type": "code",
   "execution_count": 20,
   "id": "5b08a18b",
   "metadata": {},
   "outputs": [
    {
     "name": "stdout",
     "output_type": "stream",
     "text": [
      "                            OLS Regression Results                            \n",
      "==============================================================================\n",
      "Dep. Variable:                    mpg   R-squared:                       0.869\n",
      "Model:                            OLS   Adj. R-squared:                  0.807\n",
      "Method:                 Least Squares   F-statistic:                     13.93\n",
      "Date:                Mon, 28 Apr 2025   Prob (F-statistic):           3.79e-07\n",
      "Time:                        23:55:05   Log-Likelihood:                -69.855\n",
      "No. Observations:                  32   AIC:                             161.7\n",
      "Df Residuals:                      21   BIC:                             177.8\n",
      "Df Model:                          10                                         \n",
      "Covariance Type:            nonrobust                                         \n",
      "==============================================================================\n",
      "                 coef    std err          t      P>|t|      [0.025      0.975]\n",
      "------------------------------------------------------------------------------\n",
      "Intercept     12.3034     18.718      0.657      0.518     -26.623      51.229\n",
      "C(vs)[T.1]     0.3178      2.105      0.151      0.881      -4.059       4.694\n",
      "C(am)[T.1]     2.5202      2.057      1.225      0.234      -1.757       6.797\n",
      "cyl           -0.1114      1.045     -0.107      0.916      -2.285       2.062\n",
      "disp           0.0133      0.018      0.747      0.463      -0.024       0.050\n",
      "hp            -0.0215      0.022     -0.987      0.335      -0.067       0.024\n",
      "drat           0.7871      1.635      0.481      0.635      -2.614       4.188\n",
      "wt            -3.7153      1.894     -1.961      0.063      -7.655       0.224\n",
      "qsec           0.8210      0.731      1.123      0.274      -0.699       2.341\n",
      "gear           0.6554      1.493      0.439      0.665      -2.450       3.761\n",
      "carb          -0.1994      0.829     -0.241      0.812      -1.923       1.524\n",
      "==============================================================================\n",
      "Omnibus:                        1.907   Durbin-Watson:                   1.861\n",
      "Prob(Omnibus):                  0.385   Jarque-Bera (JB):                1.747\n",
      "Skew:                           0.521   Prob(JB):                        0.418\n",
      "Kurtosis:                       2.526   Cond. No.                     1.22e+04\n",
      "==============================================================================\n",
      "\n",
      "Notes:\n",
      "[1] Standard Errors assume that the covariance matrix of the errors is correctly specified.\n",
      "[2] The condition number is large, 1.22e+04. This might indicate that there are\n",
      "strong multicollinearity or other numerical problems.\n"
     ]
    }
   ],
   "source": [
    "df_mtcars['vs'] = df_mtcars['vs'].astype('category')\n",
    "df_mtcars['am'] = df_mtcars['am'].astype('category')\n",
    "\n",
    "model2 = smf.ols('mpg ~ cyl + disp + hp + drat + wt + qsec + C(vs) + C(am) + gear + carb', data=df_mtcars).fit()\n",
    "\n",
    "print(model2.summary())"
   ]
  },
  {
   "cell_type": "code",
   "execution_count": 21,
   "id": "c0ef20b6",
   "metadata": {},
   "outputs": [
    {
     "name": "stdout",
     "output_type": "stream",
     "text": [
      "\n",
      "Coeficientes com Significância:\n",
      "Intercept: 12.3034 \n",
      "C(vs)[T.1]: 0.3178 \n",
      "C(am)[T.1]: 2.5202 \n",
      "cyl: -0.1114 \n",
      "disp: 0.0133 \n",
      "hp: -0.0215 \n",
      "drat: 0.7871 \n",
      "wt: -3.7153 .\n",
      "qsec: 0.8210 \n",
      "gear: 0.6554 \n",
      "carb: -0.1994 \n"
     ]
    }
   ],
   "source": [
    "print(\"\\nCoeficientes com Significância:\")\n",
    "for i, (coef, p_val) in enumerate(zip(model2.params, model2.pvalues)):\n",
    "    significance = format_significance(p_val)\n",
    "    print(f\"{model2.params.index[i]}: {coef:.4f} {significance}\")"
   ]
  },
  {
   "cell_type": "code",
   "execution_count": null,
   "id": "03dc4169",
   "metadata": {},
   "outputs": [],
   "source": []
  },
  {
   "cell_type": "markdown",
   "id": "939b3bdb",
   "metadata": {},
   "source": [
    "### Avaliação da multicolinearidade com Fator de Inflação da Variância\n",
    "#### Mede quanto a variância do coeficiente de uma variável está inflada por causa da correlação com outras variáveis.\n",
    "\n",
    "\n",
    "$$\n",
    "\\text{VIF}(X_i) = \\frac{1}{1 - R^2_i}\n",
    "$$\n",
    "\n",
    "\n",
    "\n",
    "\n",
    "onde:\n",
    "\n",
    "- \\( R^2_i \\) = o \\( R^2 \\) da regressão de \\( X_i \\) contra todas as outras variáveis.\n",
    "\n",
    "Então:\n",
    "\n",
    "- Se \\( R^2_i \\) for alto: a variável é muito explicada pelas outras, o VIF vai ser alto.\n",
    "- Se \\( R^2_i \\) for baixo: a variável é independente das outras, o VIF será próximo de 1."
   ]
  },
  {
   "cell_type": "markdown",
   "id": "d82876fd",
   "metadata": {},
   "source": [
    "- VIF < 5: Geralmente indica baixa multicolinearidade. As variáveis não estão altamente correlacionadas entre si.\n",
    "- 5 ≤ VIF < 10: Indica uma quantidade moderada de multicolinearidade. As variáveis têm alguma correlação, mas não é extremamente alta.\n",
    "- VIF ≥ 10: Indica alta multicolinearidade. As variáveis estão altamente correlacionadas entre si, o que pode afetar a estabilidade e a interpretabilidade do modelo."
   ]
  },
  {
   "cell_type": "code",
   "execution_count": 22,
   "id": "a196fd60",
   "metadata": {
    "scrolled": true
   },
   "outputs": [
    {
     "name": "stdout",
     "output_type": "stream",
     "text": [
      "| Variable   |        VIF |\n",
      "|:-----------|-----------:|\n",
      "| const      | 1596.27    |\n",
      "| cyl        |   15.3738  |\n",
      "| disp       |   21.6202  |\n",
      "| hp         |    9.83204 |\n",
      "| drat       |    3.37462 |\n",
      "| wt         |   15.1649  |\n",
      "| qsec       |    7.52796 |\n",
      "| vs         |    4.96587 |\n",
      "| am         |    4.64849 |\n",
      "| gear       |    5.35745 |\n",
      "| carb       |    7.90875 |\n"
     ]
    }
   ],
   "source": [
    "X = df_mtcars[['cyl', 'disp', 'hp', 'drat', 'wt', 'qsec', 'vs', 'am', 'gear', 'carb']]\n",
    "X = sm.add_constant(X)\n",
    "\n",
    "vif_data = pd.DataFrame()\n",
    "vif_data['Variable'] = X.columns\n",
    "vif_data['VIF'] = [variance_inflation_factor(X.values, i) for i in range(X.shape[1])]\n",
    "\n",
    "print(vif_data.to_markdown(index=False, tablefmt='pipe'))"
   ]
  },
  {
   "cell_type": "code",
   "execution_count": null,
   "id": "21cdf572",
   "metadata": {},
   "outputs": [],
   "source": []
  },
  {
   "cell_type": "markdown",
   "id": "9cb8eefd",
   "metadata": {},
   "source": [
    "### Modelo 3\n",
    "#### Vamos obter as melhores variáveis para o modelo"
   ]
  },
  {
   "cell_type": "code",
   "execution_count": 23,
   "id": "8ca06dcd",
   "metadata": {},
   "outputs": [
    {
     "name": "stdout",
     "output_type": "stream",
     "text": [
      "                            OLS Regression Results                            \n",
      "==============================================================================\n",
      "Dep. Variable:                    mpg   R-squared:                       0.866\n",
      "Model:                            OLS   Adj. R-squared:                  0.811\n",
      "Method:                 Least Squares   F-statistic:                     15.73\n",
      "Date:                Mon, 28 Apr 2025   Prob (F-statistic):           1.18e-07\n",
      "Time:                        23:55:05   Log-Likelihood:                -70.274\n",
      "No. Observations:                  32   AIC:                             160.5\n",
      "Df Residuals:                      22   BIC:                             175.2\n",
      "Df Model:                           9                                         \n",
      "Covariance Type:            nonrobust                                         \n",
      "==============================================================================\n",
      "                 coef    std err          t      P>|t|      [0.025      0.975]\n",
      "------------------------------------------------------------------------------\n",
      "Intercept     12.5505     18.526      0.677      0.505     -25.870      50.971\n",
      "C(vs)[T.1]     0.1604      2.073      0.077      0.939      -4.138       4.459\n",
      "C(am)[T.1]     2.4788      2.035      1.218      0.236      -1.742       6.699\n",
      "cyl            0.0963      0.997      0.097      0.924      -1.972       2.164\n",
      "hp            -0.0129      0.018     -0.706      0.488      -0.051       0.025\n",
      "drat           0.9286      1.608      0.578      0.569      -2.406       4.263\n",
      "wt            -2.6269      1.198     -2.193      0.039      -5.111      -0.142\n",
      "qsec           0.6652      0.693      0.959      0.348      -0.773       2.103\n",
      "gear           0.7430      1.474      0.504      0.619      -2.313       3.799\n",
      "carb          -0.6169      0.606     -1.018      0.320      -1.873       0.639\n",
      "==============================================================================\n",
      "Omnibus:                        1.268   Durbin-Watson:                   1.875\n",
      "Prob(Omnibus):                  0.531   Jarque-Bera (JB):                1.227\n",
      "Skew:                           0.405   Prob(JB):                        0.541\n",
      "Kurtosis:                       2.486   Cond. No.                     6.51e+03\n",
      "==============================================================================\n",
      "\n",
      "Notes:\n",
      "[1] Standard Errors assume that the covariance matrix of the errors is correctly specified.\n",
      "[2] The condition number is large, 6.51e+03. This might indicate that there are\n",
      "strong multicollinearity or other numerical problems.\n"
     ]
    }
   ],
   "source": [
    "cols = ['cyl', 'hp', 'drat', 'wt', 'qsec', 'C(vs)', 'C(am)', 'gear', 'carb']\n",
    "formula = 'mpg ~ ' + ' + '.join(cols)\n",
    "\n",
    "model3 = smf.ols(formula=formula, data=df_mtcars).fit()\n",
    "print(model3.summary())"
   ]
  },
  {
   "cell_type": "code",
   "execution_count": 24,
   "id": "a2b135c3",
   "metadata": {
    "scrolled": true
   },
   "outputs": [
    {
     "name": "stdout",
     "output_type": "stream",
     "text": [
      "\n",
      "Coeficientes com Significância:\n",
      "Intercept: 12.5505 \n",
      "C(vs)[T.1]: 0.1604 \n",
      "C(am)[T.1]: 2.4788 \n",
      "cyl: 0.0963 \n",
      "hp: -0.0129 \n",
      "drat: 0.9286 \n",
      "wt: -2.6269 *\n",
      "qsec: 0.6652 \n",
      "gear: 0.7430 \n",
      "carb: -0.6169 \n"
     ]
    }
   ],
   "source": [
    "print(\"\\nCoeficientes com Significância:\")\n",
    "for i, (coef, p_val) in enumerate(zip(model3.params, model3.pvalues)):\n",
    "    significance = format_significance(p_val)\n",
    "    print(f\"{model3.params.index[i]}: {coef:.4f} {significance}\")"
   ]
  },
  {
   "cell_type": "code",
   "execution_count": 25,
   "id": "e52f00ed",
   "metadata": {},
   "outputs": [
    {
     "name": "stdout",
     "output_type": "stream",
     "text": [
      "| Variable   |        VIF |\n",
      "|:-----------|-----------:|\n",
      "| const      | 1595.77    |\n",
      "| cyl        |   14.2847  |\n",
      "| hp         |    7.12336 |\n",
      "| drat       |    3.3293  |\n",
      "| wt         |    6.18905 |\n",
      "| qsec       |    6.91442 |\n",
      "| vs         |    4.91605 |\n",
      "| am         |    4.64511 |\n",
      "| gear       |    5.3244  |\n",
      "| carb       |    4.3106  |\n"
     ]
    }
   ],
   "source": [
    "# Passei os nomes de novo para pegar os nomes originais das colunas\n",
    "cols = ['cyl', 'hp', 'drat', 'wt', 'qsec', 'vs', 'am', 'gear', 'carb']\n",
    "X = df_mtcars[cols]\n",
    "X = sm.add_constant(X)\n",
    "\n",
    "vif_data = pd.DataFrame()\n",
    "vif_data['Variable'] = X.columns\n",
    "vif_data['VIF'] = [variance_inflation_factor(X.values, i) for i in range(X.shape[1])]\n",
    "\n",
    "print(vif_data.to_markdown(index=False, tablefmt='pipe'))"
   ]
  },
  {
   "cell_type": "code",
   "execution_count": null,
   "id": "13e02372",
   "metadata": {},
   "outputs": [],
   "source": []
  },
  {
   "cell_type": "markdown",
   "id": "5c72dc94",
   "metadata": {},
   "source": [
    "### Modelo 4"
   ]
  },
  {
   "cell_type": "code",
   "execution_count": 26,
   "id": "7a802f8f",
   "metadata": {},
   "outputs": [
    {
     "name": "stdout",
     "output_type": "stream",
     "text": [
      "                            OLS Regression Results                            \n",
      "==============================================================================\n",
      "Dep. Variable:                    mpg   R-squared:                       0.865\n",
      "Model:                            OLS   Adj. R-squared:                  0.819\n",
      "Method:                 Least Squares   F-statistic:                     18.50\n",
      "Date:                Mon, 28 Apr 2025   Prob (F-statistic):           2.63e-08\n",
      "Time:                        23:55:05   Log-Likelihood:                -70.281\n",
      "No. Observations:                  32   AIC:                             158.6\n",
      "Df Residuals:                      23   BIC:                             171.8\n",
      "Df Model:                           8                                         \n",
      "Covariance Type:            nonrobust                                         \n",
      "==============================================================================\n",
      "                 coef    std err          t      P>|t|      [0.025      0.975]\n",
      "------------------------------------------------------------------------------\n",
      "Intercept     13.8081     12.886      1.072      0.295     -12.848      40.464\n",
      "C(vs)[T.1]     0.0879      1.890      0.046      0.963      -3.822       3.997\n",
      "C(am)[T.1]     2.4242      1.912      1.268      0.218      -1.532       6.380\n",
      "hp            -0.0123      0.016     -0.743      0.465      -0.046       0.022\n",
      "drat           0.8889      1.521      0.585      0.565      -2.257       4.035\n",
      "wt            -2.6097      1.159     -2.252      0.034      -5.007      -0.213\n",
      "qsec           0.6398      0.628      1.020      0.319      -0.658       1.938\n",
      "gear           0.6939      1.353      0.513      0.613      -2.105       3.493\n",
      "carb          -0.6129      0.591     -1.037      0.311      -1.836       0.610\n",
      "==============================================================================\n",
      "Omnibus:                        1.267   Durbin-Watson:                   1.875\n",
      "Prob(Omnibus):                  0.531   Jarque-Bera (JB):                1.224\n",
      "Skew:                           0.409   Prob(JB):                        0.542\n",
      "Kurtosis:                       2.502   Cond. No.                     4.64e+03\n",
      "==============================================================================\n",
      "\n",
      "Notes:\n",
      "[1] Standard Errors assume that the covariance matrix of the errors is correctly specified.\n",
      "[2] The condition number is large, 4.64e+03. This might indicate that there are\n",
      "strong multicollinearity or other numerical problems.\n"
     ]
    }
   ],
   "source": [
    "cols = ['hp', 'drat', 'wt', 'qsec', 'C(vs)', 'C(am)', 'gear', 'carb']\n",
    "formula = 'mpg ~ ' + ' + '.join(cols)\n",
    "\n",
    "model4 = smf.ols(formula=formula, data=df_mtcars).fit()\n",
    "print(model4.summary())"
   ]
  },
  {
   "cell_type": "code",
   "execution_count": 27,
   "id": "05df6d1a",
   "metadata": {},
   "outputs": [
    {
     "name": "stdout",
     "output_type": "stream",
     "text": [
      "\n",
      "Coeficientes com Significância em Ordem Decrescente:\n",
      "wt: -2.6097 *\n",
      "C(am)[T.1]: 2.4242 \n",
      "Intercept: 13.8081 \n",
      "carb: -0.6129 \n",
      "qsec: 0.6398 \n",
      "hp: -0.0123 \n",
      "drat: 0.8889 \n",
      "gear: 0.6939 \n",
      "C(vs)[T.1]: 0.0879 \n"
     ]
    }
   ],
   "source": [
    "print(\"\\nCoeficientes com Significância em Ordem Decrescente:\")\n",
    "resultados = []\n",
    "\n",
    "for i, (coef, p_val) in enumerate(zip(model4.params, model4.pvalues)):\n",
    "    resultados.append((model4.params.index[i], coef, p_val, format_significance(p_val)))\n",
    "\n",
    "resultados_ordenados = sorted(resultados, key=lambda x: x[2])\n",
    "\n",
    "for nome, coef, p_val, signif in resultados_ordenados:\n",
    "    print(f\"{nome}: {coef:.4f} {signif}\")"
   ]
  },
  {
   "cell_type": "code",
   "execution_count": 28,
   "id": "ff39f30a",
   "metadata": {},
   "outputs": [
    {
     "name": "stdout",
     "output_type": "stream",
     "text": [
      "| Variable   |       VIF |\n",
      "|:-----------|----------:|\n",
      "| const      | 806.789   |\n",
      "| hp         |   6.01579 |\n",
      "| drat       |   3.1115  |\n",
      "| wt         |   6.05113 |\n",
      "| qsec       |   5.91868 |\n",
      "| vs         |   4.27096 |\n",
      "| am         |   4.28581 |\n",
      "| gear       |   4.69019 |\n",
      "| carb       |   4.29047 |\n"
     ]
    }
   ],
   "source": [
    "cols = ['hp', 'drat', 'wt', 'qsec', 'vs', 'am', 'gear', 'carb']\n",
    "X = df_mtcars[cols]\n",
    "X = sm.add_constant(X)\n",
    "\n",
    "vif_data = pd.DataFrame()\n",
    "vif_data['Variable'] = X.columns\n",
    "vif_data['VIF'] = [variance_inflation_factor(X.values, i) for i in range(X.shape[1])]\n",
    "\n",
    "print(vif_data.to_markdown(index=False, tablefmt='pipe'))"
   ]
  },
  {
   "cell_type": "markdown",
   "id": "689d0c0a",
   "metadata": {},
   "source": [
    "#### OBS: Variâncias inflacionadas removidas. Agora vamos reduzir a complexidade do modelo."
   ]
  },
  {
   "cell_type": "code",
   "execution_count": null,
   "id": "dedd36e1",
   "metadata": {},
   "outputs": [],
   "source": []
  },
  {
   "cell_type": "markdown",
   "id": "b7f27365",
   "metadata": {},
   "source": [
    "### Modelo 5\n",
    "Continua explicando a mesma variabilidade dos dados removendo uma variável, ou seja, está melhor"
   ]
  },
  {
   "cell_type": "code",
   "execution_count": 29,
   "id": "0b689e30",
   "metadata": {},
   "outputs": [
    {
     "name": "stdout",
     "output_type": "stream",
     "text": [
      "                            OLS Regression Results                            \n",
      "==============================================================================\n",
      "Dep. Variable:                    mpg   R-squared:                       0.865\n",
      "Model:                            OLS   Adj. R-squared:                  0.826\n",
      "Method:                 Least Squares   F-statistic:                     22.06\n",
      "Date:                Mon, 28 Apr 2025   Prob (F-statistic):           5.31e-09\n",
      "Time:                        23:55:05   Log-Likelihood:                -70.283\n",
      "No. Observations:                  32   AIC:                             156.6\n",
      "Df Residuals:                      24   BIC:                             168.3\n",
      "Df Model:                           7                                         \n",
      "Covariance Type:            nonrobust                                         \n",
      "==============================================================================\n",
      "                 coef    std err          t      P>|t|      [0.025      0.975]\n",
      "------------------------------------------------------------------------------\n",
      "Intercept     13.4921     10.718      1.259      0.220      -8.629      35.613\n",
      "C(am)[T.1]     2.4135      1.859      1.299      0.206      -1.422       6.249\n",
      "hp            -0.0121      0.016     -0.760      0.455      -0.045       0.021\n",
      "drat           0.8976      1.477      0.608      0.549      -2.151       3.947\n",
      "wt            -2.6277      1.069     -2.458      0.022      -4.834      -0.422\n",
      "qsec           0.6585      0.473      1.392      0.177      -0.318       1.635\n",
      "gear           0.7055      1.302      0.542      0.593      -1.982       3.392\n",
      "carb          -0.6146      0.578     -1.064      0.298      -1.807       0.577\n",
      "==============================================================================\n",
      "Omnibus:                        1.313   Durbin-Watson:                   1.876\n",
      "Prob(Omnibus):                  0.519   Jarque-Bera (JB):                1.263\n",
      "Skew:                           0.415   Prob(JB):                        0.532\n",
      "Kurtosis:                       2.492   Cond. No.                     3.93e+03\n",
      "==============================================================================\n",
      "\n",
      "Notes:\n",
      "[1] Standard Errors assume that the covariance matrix of the errors is correctly specified.\n",
      "[2] The condition number is large, 3.93e+03. This might indicate that there are\n",
      "strong multicollinearity or other numerical problems.\n"
     ]
    }
   ],
   "source": [
    "cols = ['hp', 'drat', 'wt', 'qsec', 'C(am)', 'gear', 'carb']\n",
    "formula = 'mpg ~ ' + ' + '.join(cols)\n",
    "\n",
    "model5 = smf.ols(formula=formula, data=df_mtcars).fit()\n",
    "print(model5.summary())"
   ]
  },
  {
   "cell_type": "code",
   "execution_count": 30,
   "id": "d724285a",
   "metadata": {},
   "outputs": [
    {
     "name": "stdout",
     "output_type": "stream",
     "text": [
      "\n",
      "Coeficientes com Significância em Ordem Decrescente:\n",
      "wt: -2.6277 *\n",
      "qsec: 0.6585 \n",
      "C(am)[T.1]: 2.4135 \n",
      "Intercept: 13.4921 \n",
      "carb: -0.6146 \n",
      "hp: -0.0121 \n",
      "drat: 0.8976 \n",
      "gear: 0.7055 \n"
     ]
    }
   ],
   "source": [
    "print(\"\\nCoeficientes com Significância em Ordem Decrescente:\")\n",
    "resultados = []\n",
    "\n",
    "for i, (coef, p_val) in enumerate(zip(model5.params, model5.pvalues)):\n",
    "    resultados.append((model5.params.index[i], coef, p_val, format_significance(p_val)))\n",
    "\n",
    "resultados_ordenados = sorted(resultados, key=lambda x: x[2])\n",
    "\n",
    "for nome, coef, p_val, signif in resultados_ordenados:\n",
    "    print(f\"{nome}: {coef:.4f} {signif}\")"
   ]
  },
  {
   "cell_type": "code",
   "execution_count": null,
   "id": "dfeeb329",
   "metadata": {},
   "outputs": [],
   "source": []
  },
  {
   "cell_type": "markdown",
   "id": "ee42af1c",
   "metadata": {},
   "source": [
    "### Modelo 6"
   ]
  },
  {
   "cell_type": "code",
   "execution_count": 31,
   "id": "df4c8784",
   "metadata": {},
   "outputs": [
    {
     "name": "stdout",
     "output_type": "stream",
     "text": [
      "                            OLS Regression Results                            \n",
      "==============================================================================\n",
      "Dep. Variable:                    mpg   R-squared:                       0.864\n",
      "Model:                            OLS   Adj. R-squared:                  0.831\n",
      "Method:                 Least Squares   F-statistic:                     26.43\n",
      "Date:                Mon, 28 Apr 2025   Prob (F-statistic):           1.12e-09\n",
      "Time:                        23:55:05   Log-Likelihood:                -70.477\n",
      "No. Observations:                  32   AIC:                             155.0\n",
      "Df Residuals:                      25   BIC:                             165.2\n",
      "Df Model:                           6                                         \n",
      "Covariance Type:            nonrobust                                         \n",
      "==============================================================================\n",
      "                 coef    std err          t      P>|t|      [0.025      0.975]\n",
      "------------------------------------------------------------------------------\n",
      "Intercept     14.5511     10.388      1.401      0.174      -6.844      35.946\n",
      "C(am)[T.1]     2.8586      1.643      1.739      0.094      -0.526       6.243\n",
      "hp            -0.0117      0.016     -0.746      0.463      -0.044       0.021\n",
      "drat           1.0728      1.421      0.755      0.457      -1.854       3.999\n",
      "wt            -2.8290      0.988     -2.863      0.008      -4.864      -0.794\n",
      "qsec           0.7071      0.458      1.545      0.135      -0.236       1.650\n",
      "carb          -0.4544      0.489     -0.929      0.362      -1.462       0.553\n",
      "==============================================================================\n",
      "Omnibus:                        1.495   Durbin-Watson:                   1.907\n",
      "Prob(Omnibus):                  0.474   Jarque-Bera (JB):                1.406\n",
      "Skew:                           0.420   Prob(JB):                        0.495\n",
      "Kurtosis:                       2.410   Cond. No.                     3.86e+03\n",
      "==============================================================================\n",
      "\n",
      "Notes:\n",
      "[1] Standard Errors assume that the covariance matrix of the errors is correctly specified.\n",
      "[2] The condition number is large, 3.86e+03. This might indicate that there are\n",
      "strong multicollinearity or other numerical problems.\n"
     ]
    }
   ],
   "source": [
    "cols = ['hp', 'drat', 'wt', 'qsec', 'C(am)', 'carb']\n",
    "formula = 'mpg ~ ' + ' + '.join(cols)\n",
    "\n",
    "model6 = smf.ols(formula=formula, data=df_mtcars).fit()\n",
    "print(model6.summary())"
   ]
  },
  {
   "cell_type": "code",
   "execution_count": 32,
   "id": "b7ba4287",
   "metadata": {},
   "outputs": [
    {
     "name": "stdout",
     "output_type": "stream",
     "text": [
      "\n",
      "Coeficientes com Significância em Ordem Decrescente:\n",
      "wt: -2.8290 **\n",
      "C(am)[T.1]: 2.8586 .\n",
      "qsec: 0.7071 \n",
      "Intercept: 14.5511 \n",
      "carb: -0.4544 \n",
      "drat: 1.0728 \n",
      "hp: -0.0117 \n"
     ]
    }
   ],
   "source": [
    "print(\"\\nCoeficientes com Significância em Ordem Decrescente:\")\n",
    "resultados = []\n",
    "\n",
    "for i, (coef, p_val) in enumerate(zip(model6.params, model6.pvalues)):\n",
    "    resultados.append((model6.params.index[i], coef, p_val, format_significance(p_val)))\n",
    "\n",
    "resultados_ordenados = sorted(resultados, key=lambda x: x[2])\n",
    "\n",
    "for nome, coef, p_val, signif in resultados_ordenados:\n",
    "    print(f\"{nome}: {coef:.4f} {signif}\")"
   ]
  },
  {
   "cell_type": "code",
   "execution_count": null,
   "id": "2a62ca07",
   "metadata": {},
   "outputs": [],
   "source": []
  },
  {
   "cell_type": "markdown",
   "id": "a5dc008d",
   "metadata": {},
   "source": [
    "### Modelo 7"
   ]
  },
  {
   "cell_type": "code",
   "execution_count": 33,
   "id": "ad08eede",
   "metadata": {},
   "outputs": [
    {
     "name": "stdout",
     "output_type": "stream",
     "text": [
      "                            OLS Regression Results                            \n",
      "==============================================================================\n",
      "Dep. Variable:                    mpg   R-squared:                       0.861\n",
      "Model:                            OLS   Adj. R-squared:                  0.834\n",
      "Method:                 Least Squares   F-statistic:                     32.15\n",
      "Date:                Mon, 28 Apr 2025   Prob (F-statistic):           2.42e-10\n",
      "Time:                        23:55:05   Log-Likelihood:                -70.829\n",
      "No. Observations:                  32   AIC:                             153.7\n",
      "Df Residuals:                      26   BIC:                             162.5\n",
      "Df Model:                           5                                         \n",
      "Covariance Type:            nonrobust                                         \n",
      "==============================================================================\n",
      "                 coef    std err          t      P>|t|      [0.025      0.975]\n",
      "------------------------------------------------------------------------------\n",
      "Intercept      9.9243      8.259      1.202      0.240      -7.053      26.901\n",
      "C(am)[T.1]     2.9639      1.623      1.826      0.079      -0.373       6.301\n",
      "drat           1.2071      1.397      0.864      0.396      -1.665       4.080\n",
      "wt            -3.1108      0.905     -3.437      0.002      -4.971      -1.251\n",
      "qsec           0.9145      0.360      2.538      0.017       0.174       1.655\n",
      "carb          -0.6023      0.443     -1.359      0.186      -1.513       0.309\n",
      "==============================================================================\n",
      "Omnibus:                        0.996   Durbin-Watson:                   2.022\n",
      "Prob(Omnibus):                  0.608   Jarque-Bera (JB):                0.988\n",
      "Skew:                           0.286   Prob(JB):                        0.610\n",
      "Kurtosis:                       2.356   Cond. No.                         360.\n",
      "==============================================================================\n",
      "\n",
      "Notes:\n",
      "[1] Standard Errors assume that the covariance matrix of the errors is correctly specified.\n"
     ]
    }
   ],
   "source": [
    "cols = ['drat', 'wt', 'qsec', 'C(am)', 'carb']\n",
    "formula = 'mpg ~ ' + ' + '.join(cols)\n",
    "\n",
    "model7 = smf.ols(formula=formula, data=df_mtcars).fit()\n",
    "print(model7.summary())"
   ]
  },
  {
   "cell_type": "code",
   "execution_count": 34,
   "id": "6c05ee34",
   "metadata": {},
   "outputs": [
    {
     "name": "stdout",
     "output_type": "stream",
     "text": [
      "\n",
      "Coeficientes com Significância em Ordem Decrescente:\n",
      "wt: -3.1108 **\n",
      "qsec: 0.9145 *\n",
      "C(am)[T.1]: 2.9639 .\n",
      "carb: -0.6023 \n",
      "Intercept: 9.9243 \n",
      "drat: 1.2071 \n"
     ]
    }
   ],
   "source": [
    "print(\"\\nCoeficientes com Significância em Ordem Decrescente:\")\n",
    "resultados = []\n",
    "\n",
    "for i, (coef, p_val) in enumerate(zip(model7.params, model7.pvalues)):\n",
    "    resultados.append((model7.params.index[i], coef, p_val, format_significance(p_val)))\n",
    "\n",
    "resultados_ordenados = sorted(resultados, key=lambda x: x[2])\n",
    "\n",
    "for nome, coef, p_val, signif in resultados_ordenados:\n",
    "    print(f\"{nome}: {coef:.4f} {signif}\")"
   ]
  },
  {
   "cell_type": "code",
   "execution_count": null,
   "id": "db1e7bee",
   "metadata": {},
   "outputs": [],
   "source": []
  },
  {
   "cell_type": "markdown",
   "id": "2a4ada42",
   "metadata": {},
   "source": [
    "### Modelo 8"
   ]
  },
  {
   "cell_type": "code",
   "execution_count": 35,
   "id": "f018bf34",
   "metadata": {},
   "outputs": [
    {
     "name": "stdout",
     "output_type": "stream",
     "text": [
      "                            OLS Regression Results                            \n",
      "==============================================================================\n",
      "Dep. Variable:                    mpg   R-squared:                       0.857\n",
      "Model:                            OLS   Adj. R-squared:                  0.836\n",
      "Method:                 Least Squares   F-statistic:                     40.39\n",
      "Date:                Mon, 28 Apr 2025   Prob (F-statistic):           5.06e-11\n",
      "Time:                        23:55:05   Log-Likelihood:                -71.282\n",
      "No. Observations:                  32   AIC:                             152.6\n",
      "Df Residuals:                      27   BIC:                             159.9\n",
      "Df Model:                           4                                         \n",
      "Covariance Type:            nonrobust                                         \n",
      "==============================================================================\n",
      "                 coef    std err          t      P>|t|      [0.025      0.975]\n",
      "------------------------------------------------------------------------------\n",
      "Intercept     12.8972      7.472      1.726      0.096      -2.435      28.229\n",
      "C(am)[T.1]     3.5114      1.487      2.361      0.026       0.459       6.563\n",
      "wt            -3.4343      0.820     -4.188      0.000      -5.117      -1.752\n",
      "qsec           1.0191      0.338      3.017      0.006       0.326       1.712\n",
      "carb          -0.4886      0.421     -1.160      0.256      -1.353       0.376\n",
      "==============================================================================\n",
      "Omnibus:                        1.129   Durbin-Watson:                   1.772\n",
      "Prob(Omnibus):                  0.569   Jarque-Bera (JB):                1.064\n",
      "Skew:                           0.290   Prob(JB):                        0.587\n",
      "Kurtosis:                       2.321   Cond. No.                         321.\n",
      "==============================================================================\n",
      "\n",
      "Notes:\n",
      "[1] Standard Errors assume that the covariance matrix of the errors is correctly specified.\n"
     ]
    }
   ],
   "source": [
    "cols = ['wt', 'qsec', 'C(am)', 'carb']\n",
    "formula = 'mpg ~ ' + ' + '.join(cols)\n",
    "\n",
    "model8 = smf.ols(formula=formula, data=df_mtcars).fit()\n",
    "print(model8.summary())"
   ]
  },
  {
   "cell_type": "code",
   "execution_count": 36,
   "id": "2c46ee73",
   "metadata": {},
   "outputs": [
    {
     "name": "stdout",
     "output_type": "stream",
     "text": [
      "\n",
      "Coeficientes com Significância em Ordem Decrescente:\n",
      "wt: -3.4343 ***\n",
      "qsec: 1.0191 **\n",
      "C(am)[T.1]: 3.5114 *\n",
      "Intercept: 12.8972 .\n",
      "carb: -0.4886 \n"
     ]
    }
   ],
   "source": [
    "print(\"\\nCoeficientes com Significância em Ordem Decrescente:\")\n",
    "resultados = []\n",
    "\n",
    "for i, (coef, p_val) in enumerate(zip(model8.params, model8.pvalues)):\n",
    "    resultados.append((model8.params.index[i], coef, p_val, format_significance(p_val)))\n",
    "\n",
    "resultados_ordenados = sorted(resultados, key=lambda x: x[2])\n",
    "\n",
    "for nome, coef, p_val, signif in resultados_ordenados:\n",
    "    print(f\"{nome}: {coef:.4f} {signif}\")"
   ]
  },
  {
   "cell_type": "code",
   "execution_count": null,
   "id": "c2522724",
   "metadata": {},
   "outputs": [],
   "source": []
  },
  {
   "cell_type": "markdown",
   "id": "266bcf0d",
   "metadata": {},
   "source": [
    "### Modelo 9"
   ]
  },
  {
   "cell_type": "code",
   "execution_count": 37,
   "id": "5462212b",
   "metadata": {},
   "outputs": [
    {
     "name": "stdout",
     "output_type": "stream",
     "text": [
      "                            OLS Regression Results                            \n",
      "==============================================================================\n",
      "Dep. Variable:                    mpg   R-squared:                       0.850\n",
      "Model:                            OLS   Adj. R-squared:                  0.834\n",
      "Method:                 Least Squares   F-statistic:                     52.75\n",
      "Date:                Mon, 28 Apr 2025   Prob (F-statistic):           1.21e-11\n",
      "Time:                        23:55:05   Log-Likelihood:                -72.060\n",
      "No. Observations:                  32   AIC:                             152.1\n",
      "Df Residuals:                      28   BIC:                             158.0\n",
      "Df Model:                           3                                         \n",
      "Covariance Type:            nonrobust                                         \n",
      "==============================================================================\n",
      "                 coef    std err          t      P>|t|      [0.025      0.975]\n",
      "------------------------------------------------------------------------------\n",
      "Intercept      9.6178      6.960      1.382      0.178      -4.638      23.874\n",
      "C(am)[T.1]     2.9358      1.411      2.081      0.047       0.046       5.826\n",
      "wt            -3.9165      0.711     -5.507      0.000      -5.373      -2.460\n",
      "qsec           1.2259      0.289      4.247      0.000       0.635       1.817\n",
      "==============================================================================\n",
      "Omnibus:                        2.574   Durbin-Watson:                   1.714\n",
      "Prob(Omnibus):                  0.276   Jarque-Bera (JB):                2.213\n",
      "Skew:                           0.540   Prob(JB):                        0.331\n",
      "Kurtosis:                       2.297   Cond. No.                         296.\n",
      "==============================================================================\n",
      "\n",
      "Notes:\n",
      "[1] Standard Errors assume that the covariance matrix of the errors is correctly specified.\n"
     ]
    }
   ],
   "source": [
    "cols = ['wt', 'qsec', 'C(am)']\n",
    "formula = 'mpg ~ ' + ' + '.join(cols)\n",
    "\n",
    "model9 = smf.ols(formula=formula, data=df_mtcars).fit()\n",
    "print(model9.summary())"
   ]
  },
  {
   "cell_type": "code",
   "execution_count": 38,
   "id": "a21b21ec",
   "metadata": {},
   "outputs": [
    {
     "name": "stdout",
     "output_type": "stream",
     "text": [
      "\n",
      "Coeficientes com Significância em Ordem Decrescente:\n",
      "wt: -3.9165 ***\n",
      "qsec: 1.2259 ***\n",
      "C(am)[T.1]: 2.9358 *\n",
      "Intercept: 9.6178 \n"
     ]
    }
   ],
   "source": [
    "print(\"\\nCoeficientes com Significância em Ordem Decrescente:\")\n",
    "resultados = []\n",
    "\n",
    "for i, (coef, p_val) in enumerate(zip(model9.params, model9.pvalues)):\n",
    "    resultados.append((model9.params.index[i], coef, p_val, format_significance(p_val)))\n",
    "\n",
    "resultados_ordenados = sorted(resultados, key=lambda x: x[2])\n",
    "\n",
    "for nome, coef, p_val, signif in resultados_ordenados:\n",
    "    print(f\"{nome}: {coef:.4f} {signif}\")"
   ]
  },
  {
   "cell_type": "code",
   "execution_count": null,
   "id": "9fe9fdf1",
   "metadata": {},
   "outputs": [],
   "source": []
  },
  {
   "cell_type": "markdown",
   "id": "5e01a6f6",
   "metadata": {},
   "source": [
    "### Modelo 10"
   ]
  },
  {
   "cell_type": "code",
   "execution_count": 39,
   "id": "d6814204",
   "metadata": {},
   "outputs": [
    {
     "name": "stdout",
     "output_type": "stream",
     "text": [
      "                            OLS Regression Results                            \n",
      "==============================================================================\n",
      "Dep. Variable:                    mpg   R-squared:                       0.826\n",
      "Model:                            OLS   Adj. R-squared:                  0.814\n",
      "Method:                 Least Squares   F-statistic:                     69.03\n",
      "Date:                Mon, 28 Apr 2025   Prob (F-statistic):           9.39e-12\n",
      "Time:                        23:55:05   Log-Likelihood:                -74.360\n",
      "No. Observations:                  32   AIC:                             154.7\n",
      "Df Residuals:                      29   BIC:                             159.1\n",
      "Df Model:                           2                                         \n",
      "Covariance Type:            nonrobust                                         \n",
      "==============================================================================\n",
      "                 coef    std err          t      P>|t|      [0.025      0.975]\n",
      "------------------------------------------------------------------------------\n",
      "Intercept     19.7462      5.252      3.760      0.001       9.005      30.488\n",
      "wt            -5.0480      0.484    -10.430      0.000      -6.038      -4.058\n",
      "qsec           0.9292      0.265      3.506      0.001       0.387       1.471\n",
      "==============================================================================\n",
      "Omnibus:                        3.357   Durbin-Watson:                   1.496\n",
      "Prob(Omnibus):                  0.187   Jarque-Bera (JB):                2.542\n",
      "Skew:                           0.690   Prob(JB):                        0.281\n",
      "Kurtosis:                       3.032   Cond. No.                         209.\n",
      "==============================================================================\n",
      "\n",
      "Notes:\n",
      "[1] Standard Errors assume that the covariance matrix of the errors is correctly specified.\n"
     ]
    }
   ],
   "source": [
    "cols = ['wt', 'qsec']\n",
    "formula = 'mpg ~ ' + ' + '.join(cols)\n",
    "\n",
    "model10 = smf.ols(formula=formula, data=df_mtcars).fit()\n",
    "print(model10.summary())"
   ]
  },
  {
   "cell_type": "code",
   "execution_count": 40,
   "id": "7419b284",
   "metadata": {},
   "outputs": [
    {
     "name": "stdout",
     "output_type": "stream",
     "text": [
      "\n",
      "Coeficientes com Significância em Ordem Decrescente:\n",
      "wt: -5.0480 ***\n",
      "Intercept: 19.7462 ***\n",
      "qsec: 0.9292 **\n"
     ]
    }
   ],
   "source": [
    "print(\"\\nCoeficientes com Significância em Ordem Decrescente:\")\n",
    "resultados = []\n",
    "\n",
    "for i, (coef, p_val) in enumerate(zip(model10.params, model10.pvalues)):\n",
    "    resultados.append((model10.params.index[i], coef, p_val, format_significance(p_val)))\n",
    "\n",
    "resultados_ordenados = sorted(resultados, key=lambda x: x[2])\n",
    "\n",
    "for nome, coef, p_val, signif in resultados_ordenados:\n",
    "    print(f\"{nome}: {coef:.4f} {signif}\")"
   ]
  },
  {
   "cell_type": "markdown",
   "id": "caea6b85",
   "metadata": {},
   "source": [
    "### Melhor Modelo\n",
    "O Modelo 9 apresentou o melhor resultado pelo nível de significância dos coeficientes, p-values e também da explicabilidade do modelo para identificar o padrão da relação entre as variáveis independentes(X) e a dependente(Y)."
   ]
  },
  {
   "cell_type": "code",
   "execution_count": null,
   "id": "3a06bff7",
   "metadata": {},
   "outputs": [],
   "source": []
  },
  {
   "cell_type": "markdown",
   "id": "766002e4",
   "metadata": {},
   "source": [
    "### Construção de Modelos com melhores capacidades preditivas"
   ]
  },
  {
   "cell_type": "code",
   "execution_count": 41,
   "id": "96a495be",
   "metadata": {},
   "outputs": [],
   "source": [
    "def avaliar_modelo(nome_modelo, y_teste, previsao):\n",
    "    r2 = r2_score(y_teste, previsao)\n",
    "    mae = mean_absolute_error(y_teste, previsao)\n",
    "    rsme = np.sqrt(mean_squared_error(y_teste, previsao))    \n",
    "    return f'Modelo {nome_modelo}:\\nR2:{r2:.4}\\nMAE:{mae:.4f}\\nRSME:{rsme:.4f}\\n'"
   ]
  },
  {
   "cell_type": "code",
   "execution_count": 42,
   "id": "0a920a11",
   "metadata": {},
   "outputs": [],
   "source": [
    "parametros = {\n",
    "    'RandomForest': {\n",
    "        'n_estimators': [50, 100, 150],\n",
    "        'max_depth': [None, 5, 10, 20]\n",
    "    },\n",
    "    'LinearRegression': {},\n",
    "    'ExtraTrees': {\n",
    "        'n_estimators': [50, 100, 150],\n",
    "        'max_depth': [None, 5, 10, 20]\n",
    "    },\n",
    "    'KNN': {\n",
    "        'n_neighbors': [2, 3, 5, 7, 9],\n",
    "        'weights': ['uniform', 'distance']\n",
    "    }\n",
    "}"
   ]
  },
  {
   "cell_type": "code",
   "execution_count": 43,
   "id": "07b666c0",
   "metadata": {},
   "outputs": [],
   "source": [
    "modelo_randomforest = RandomForestRegressor()\n",
    "modelo_linearregression = LinearRegression()\n",
    "modelo_extratrees = ExtraTreesRegressor()\n",
    "modelo_knn = KNeighborsRegressor()"
   ]
  },
  {
   "cell_type": "code",
   "execution_count": 44,
   "id": "8f6b913d",
   "metadata": {},
   "outputs": [],
   "source": [
    "modelos = {\n",
    "           'RandomForest': modelo_randomforest,\n",
    "           'LinearRegression': modelo_linearregression,\n",
    "           'ExtraTrees': modelo_extratrees,\n",
    "           'KNN':modelo_knn\n",
    "          }\n",
    "\n",
    "X = df_mtcars[['qsec', 'wt', 'am']]\n",
    "y = df_mtcars['mpg']\n",
    "\n",
    "X_train, X_test, y_train, y_test = train_test_split(X, y, test_size=0.2, random_state=42)"
   ]
  },
  {
   "cell_type": "code",
   "execution_count": 45,
   "id": "cf4e1806",
   "metadata": {},
   "outputs": [],
   "source": [
    "# Normalização\n",
    "scaler = StandardScaler()\n",
    "X_train_scaled = scaler.fit_transform(X_train)\n",
    "X_test_scaled = scaler.transform(X_test)"
   ]
  },
  {
   "cell_type": "code",
   "execution_count": 46,
   "id": "f8f046b2",
   "metadata": {},
   "outputs": [],
   "source": [
    "resultados = []\n",
    "\n",
    "for nome_modelo, modelo in modelos.items():\n",
    "    if parametros[nome_modelo]:\n",
    "        random_search = RandomizedSearchCV(modelo, parametros[nome_modelo], n_iter=5, cv=3, random_state=42, scoring='neg_mean_squared_error')\n",
    "        random_search.fit(X_train_scaled, y_train)\n",
    "        melhor_modelo = random_search.best_estimator_\n",
    "        melhores_parametros = random_search.best_params_\n",
    "    else:\n",
    "        melhor_modelo = modelo.fit(X_train_scaled, y_train)\n",
    "        melhores_parametros = {}\n",
    "\n",
    "    previsao = melhor_modelo.predict(X_test_scaled)\n",
    "    r2 = r2_score(y_test, previsao)\n",
    "    mae = mean_absolute_error(y_test, previsao)\n",
    "    rmse = np.sqrt(mean_squared_error(y_test, previsao))\n",
    "    \n",
    "    resultados.append({\n",
    "        'Modelo': nome_modelo,\n",
    "        'R2': round(r2, 4),\n",
    "        'MAE': round(mae, 4),\n",
    "        'RMSE': round(rmse, 4)\n",
    "    })\n",
    "    \n",
    "    with open(f'models/{nome_modelo}.pkl', 'wb') as f:\n",
    "        pickle.dump(melhor_modelo, f)\n",
    "\n",
    "df_resultados = pd.DataFrame(resultados).sort_values(by='R2', ascending=False).reset_index(drop=True)"
   ]
  },
  {
   "cell_type": "code",
   "execution_count": 47,
   "id": "48b71743",
   "metadata": {},
   "outputs": [
    {
     "data": {
      "text/html": [
       "<div>\n",
       "<style scoped>\n",
       "    .dataframe tbody tr th:only-of-type {\n",
       "        vertical-align: middle;\n",
       "    }\n",
       "\n",
       "    .dataframe tbody tr th {\n",
       "        vertical-align: top;\n",
       "    }\n",
       "\n",
       "    .dataframe thead th {\n",
       "        text-align: right;\n",
       "    }\n",
       "</style>\n",
       "<table border=\"1\" class=\"dataframe\">\n",
       "  <thead>\n",
       "    <tr style=\"text-align: right;\">\n",
       "      <th></th>\n",
       "      <th>Modelo</th>\n",
       "      <th>R2</th>\n",
       "      <th>MAE</th>\n",
       "      <th>RMSE</th>\n",
       "    </tr>\n",
       "  </thead>\n",
       "  <tbody>\n",
       "    <tr>\n",
       "      <th>0</th>\n",
       "      <td>KNN</td>\n",
       "      <td>0.8522</td>\n",
       "      <td>2.3071</td>\n",
       "      <td>2.4310</td>\n",
       "    </tr>\n",
       "    <tr>\n",
       "      <th>1</th>\n",
       "      <td>LinearRegression</td>\n",
       "      <td>0.8322</td>\n",
       "      <td>2.0214</td>\n",
       "      <td>2.5905</td>\n",
       "    </tr>\n",
       "    <tr>\n",
       "      <th>2</th>\n",
       "      <td>RandomForest</td>\n",
       "      <td>0.7504</td>\n",
       "      <td>2.2873</td>\n",
       "      <td>3.1594</td>\n",
       "    </tr>\n",
       "    <tr>\n",
       "      <th>3</th>\n",
       "      <td>ExtraTrees</td>\n",
       "      <td>0.7432</td>\n",
       "      <td>2.5073</td>\n",
       "      <td>3.2042</td>\n",
       "    </tr>\n",
       "  </tbody>\n",
       "</table>\n",
       "</div>"
      ],
      "text/plain": [
       "             Modelo      R2     MAE    RMSE\n",
       "0               KNN  0.8522  2.3071  2.4310\n",
       "1  LinearRegression  0.8322  2.0214  2.5905\n",
       "2      RandomForest  0.7504  2.2873  3.1594\n",
       "3        ExtraTrees  0.7432  2.5073  3.2042"
      ]
     },
     "execution_count": 47,
     "metadata": {},
     "output_type": "execute_result"
    }
   ],
   "source": [
    "df_resultados"
   ]
  },
  {
   "cell_type": "markdown",
   "id": "34c33491",
   "metadata": {},
   "source": [
    "### Previsão com Novos Dados"
   ]
  },
  {
   "cell_type": "code",
   "execution_count": 49,
   "id": "4d500770",
   "metadata": {},
   "outputs": [],
   "source": [
    "# Salvando a seleção de variáveis\n",
    "variaveis_usadas = ['qsec', 'wt', 'am']\n",
    "\n",
    "with open('models/feature_selection.pkl', 'wb') as f:\n",
    "    pickle.dump(variaveis_usadas, f)\n",
    "    \n",
    "    \n",
    "# Salvando o pré-processamento    \n",
    "with open('models/preprocessamento.pkl', 'wb') as f:\n",
    "    pickle.dump(scaler, f)"
   ]
  },
  {
   "cell_type": "code",
   "execution_count": 50,
   "id": "7b67a3f7",
   "metadata": {},
   "outputs": [],
   "source": [
    "# Carregando os modelos\n",
    "with open('models/feature_selection.pkl', 'rb') as f:\n",
    "    variaveis_usadas = pickle.load(f)\n",
    "    \n",
    "with open('models/preprocessamento.pkl', 'rb') as f:\n",
    "    scaler = pickle.load(f)\n",
    "    \n",
    "with open('models/KNN.pkl', 'rb') as f:\n",
    "    modelo_knn_carregado = pickle.load(f)"
   ]
  },
  {
   "cell_type": "markdown",
   "id": "cf1df886",
   "metadata": {},
   "source": [
    "### Novos dados entraram na base"
   ]
  },
  {
   "cell_type": "code",
   "execution_count": 51,
   "id": "bda8df92",
   "metadata": {},
   "outputs": [],
   "source": [
    "novos_carros = pd.DataFrame({\n",
    "    'cyl': [6, 4, 8],\n",
    "    'disp': [70.0, 200.0, 450.0],\n",
    "    'hp': [50, 150, 300],\n",
    "    'drat': [4.5, 3.2, 2.8],\n",
    "    'wt': [1.8, 3.2, 5.0],\n",
    "    'qsec': [20.5, 17.0, 15.0],\n",
    "    'vs': [1, 0, 0],\n",
    "    'am': [1, 0, 0],\n",
    "    'gear': [5, 4, 3],\n",
    "    'carb': [1, 4, 6]\n",
    "}, index=['Carro A', 'Carro B', 'Carro C'])"
   ]
  },
  {
   "cell_type": "code",
   "execution_count": 52,
   "id": "0a7eef34",
   "metadata": {},
   "outputs": [
    {
     "data": {
      "text/html": [
       "<div>\n",
       "<style scoped>\n",
       "    .dataframe tbody tr th:only-of-type {\n",
       "        vertical-align: middle;\n",
       "    }\n",
       "\n",
       "    .dataframe tbody tr th {\n",
       "        vertical-align: top;\n",
       "    }\n",
       "\n",
       "    .dataframe thead th {\n",
       "        text-align: right;\n",
       "    }\n",
       "</style>\n",
       "<table border=\"1\" class=\"dataframe\">\n",
       "  <thead>\n",
       "    <tr style=\"text-align: right;\">\n",
       "      <th></th>\n",
       "      <th>cyl</th>\n",
       "      <th>disp</th>\n",
       "      <th>hp</th>\n",
       "      <th>drat</th>\n",
       "      <th>wt</th>\n",
       "      <th>qsec</th>\n",
       "      <th>vs</th>\n",
       "      <th>am</th>\n",
       "      <th>gear</th>\n",
       "      <th>carb</th>\n",
       "    </tr>\n",
       "  </thead>\n",
       "  <tbody>\n",
       "    <tr>\n",
       "      <th>Carro A</th>\n",
       "      <td>6</td>\n",
       "      <td>70.0</td>\n",
       "      <td>50</td>\n",
       "      <td>4.5</td>\n",
       "      <td>1.8</td>\n",
       "      <td>20.5</td>\n",
       "      <td>1</td>\n",
       "      <td>1</td>\n",
       "      <td>5</td>\n",
       "      <td>1</td>\n",
       "    </tr>\n",
       "    <tr>\n",
       "      <th>Carro B</th>\n",
       "      <td>4</td>\n",
       "      <td>200.0</td>\n",
       "      <td>150</td>\n",
       "      <td>3.2</td>\n",
       "      <td>3.2</td>\n",
       "      <td>17.0</td>\n",
       "      <td>0</td>\n",
       "      <td>0</td>\n",
       "      <td>4</td>\n",
       "      <td>4</td>\n",
       "    </tr>\n",
       "    <tr>\n",
       "      <th>Carro C</th>\n",
       "      <td>8</td>\n",
       "      <td>450.0</td>\n",
       "      <td>300</td>\n",
       "      <td>2.8</td>\n",
       "      <td>5.0</td>\n",
       "      <td>15.0</td>\n",
       "      <td>0</td>\n",
       "      <td>0</td>\n",
       "      <td>3</td>\n",
       "      <td>6</td>\n",
       "    </tr>\n",
       "  </tbody>\n",
       "</table>\n",
       "</div>"
      ],
      "text/plain": [
       "         cyl   disp   hp  drat   wt  qsec  vs  am  gear  carb\n",
       "Carro A    6   70.0   50   4.5  1.8  20.5   1   1     5     1\n",
       "Carro B    4  200.0  150   3.2  3.2  17.0   0   0     4     4\n",
       "Carro C    8  450.0  300   2.8  5.0  15.0   0   0     3     6"
      ]
     },
     "execution_count": 52,
     "metadata": {},
     "output_type": "execute_result"
    }
   ],
   "source": [
    "novos_carros"
   ]
  },
  {
   "cell_type": "code",
   "execution_count": 53,
   "id": "750171e0",
   "metadata": {},
   "outputs": [
    {
     "data": {
      "text/html": [
       "<div>\n",
       "<style scoped>\n",
       "    .dataframe tbody tr th:only-of-type {\n",
       "        vertical-align: middle;\n",
       "    }\n",
       "\n",
       "    .dataframe tbody tr th {\n",
       "        vertical-align: top;\n",
       "    }\n",
       "\n",
       "    .dataframe thead th {\n",
       "        text-align: right;\n",
       "    }\n",
       "</style>\n",
       "<table border=\"1\" class=\"dataframe\">\n",
       "  <thead>\n",
       "    <tr style=\"text-align: right;\">\n",
       "      <th></th>\n",
       "      <th>qsec</th>\n",
       "      <th>wt</th>\n",
       "      <th>am</th>\n",
       "    </tr>\n",
       "  </thead>\n",
       "  <tbody>\n",
       "    <tr>\n",
       "      <th>Carro A</th>\n",
       "      <td>20.5</td>\n",
       "      <td>1.8</td>\n",
       "      <td>1</td>\n",
       "    </tr>\n",
       "    <tr>\n",
       "      <th>Carro B</th>\n",
       "      <td>17.0</td>\n",
       "      <td>3.2</td>\n",
       "      <td>0</td>\n",
       "    </tr>\n",
       "    <tr>\n",
       "      <th>Carro C</th>\n",
       "      <td>15.0</td>\n",
       "      <td>5.0</td>\n",
       "      <td>0</td>\n",
       "    </tr>\n",
       "  </tbody>\n",
       "</table>\n",
       "</div>"
      ],
      "text/plain": [
       "         qsec   wt  am\n",
       "Carro A  20.5  1.8   1\n",
       "Carro B  17.0  3.2   0\n",
       "Carro C  15.0  5.0   0"
      ]
     },
     "execution_count": 53,
     "metadata": {},
     "output_type": "execute_result"
    }
   ],
   "source": [
    "novo_carro_filtrado = novos_carros[variaveis_usadas]\n",
    "novo_carro_filtrado"
   ]
  },
  {
   "cell_type": "code",
   "execution_count": 54,
   "id": "7af0c610",
   "metadata": {},
   "outputs": [
    {
     "data": {
      "text/plain": [
       "array([[ 1.82445894, -1.40352219,  1.22474487],\n",
       "       [-0.55894144,  0.06052802, -0.81649658],\n",
       "       [-1.9208845 ,  1.94287828, -0.81649658]])"
      ]
     },
     "execution_count": 54,
     "metadata": {},
     "output_type": "execute_result"
    }
   ],
   "source": [
    "novo_carro_normalizado = scaler.transform(novo_carro_filtrado)\n",
    "novo_carro_normalizado"
   ]
  },
  {
   "cell_type": "code",
   "execution_count": 55,
   "id": "fe02d11e",
   "metadata": {},
   "outputs": [
    {
     "data": {
      "text/plain": [
       "array([30.6 , 16.95, 13.8 ])"
      ]
     },
     "execution_count": 55,
     "metadata": {},
     "output_type": "execute_result"
    }
   ],
   "source": [
    "previsao_novos_carros = modelo_knn_carregado.predict(novo_carro_normalizado)\n",
    "previsao_novos_carros"
   ]
  }
 ],
 "metadata": {
  "kernelspec": {
   "display_name": "Python 3 (ipykernel)",
   "language": "python",
   "name": "python3"
  },
  "language_info": {
   "codemirror_mode": {
    "name": "ipython",
    "version": 3
   },
   "file_extension": ".py",
   "mimetype": "text/x-python",
   "name": "python",
   "nbconvert_exporter": "python",
   "pygments_lexer": "ipython3",
   "version": "3.9.12"
  }
 },
 "nbformat": 4,
 "nbformat_minor": 5
}
