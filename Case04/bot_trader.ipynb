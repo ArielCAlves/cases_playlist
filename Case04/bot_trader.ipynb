{
 "cells": [
  {
   "cell_type": "markdown",
   "metadata": {},
   "source": [
    "### Reinforcement Learning - Robô Investidor"
   ]
  },
  {
   "cell_type": "markdown",
   "metadata": {},
   "source": [
    "https://pypi.org/project/bayesian-optimization/"
   ]
  },
  {
   "cell_type": "code",
   "execution_count": 1,
   "metadata": {},
   "outputs": [],
   "source": [
    "# !pip install -q bayesian-optimization==1.4.3 --upgrade"
   ]
  },
  {
   "cell_type": "code",
   "execution_count": 2,
   "metadata": {},
   "outputs": [],
   "source": [
    "# !pip install -q -U watermark"
   ]
  },
  {
   "cell_type": "code",
   "execution_count": 3,
   "metadata": {},
   "outputs": [],
   "source": [
    "import pandas as pd\n",
    "import numpy as np\n",
    "np.float = float\n",
    "\n",
    "import time\n",
    "import random\n",
    "\n",
    "import yfinance as yf\n",
    "\n",
    "import matplotlib.pyplot as plt\n",
    "\n",
    "from bayes_opt import BayesianOptimization\n",
    "from datetime import datetime"
   ]
  },
  {
   "cell_type": "code",
   "execution_count": 4,
   "metadata": {},
   "outputs": [
    {
     "name": "stdout",
     "output_type": "stream",
     "text": [
      "Author: Robô Investidor\n",
      "\n",
      "matplotlib: 3.9.2\n",
      "numpy     : 1.26.4\n",
      "pandas    : 2.2.3\n",
      "yfinance  : 0.2.55\n",
      "\n"
     ]
    }
   ],
   "source": [
    "%reload_ext watermark\n",
    "%watermark -a \"Robô Investidor\"\n",
    "%watermark --iversions"
   ]
  },
  {
   "cell_type": "markdown",
   "metadata": {},
   "source": [
    "### Download dos Dados\n",
    "Execute o comando abaixo modificando o Ticker se quiser avaliar outros dados."
   ]
  },
  {
   "cell_type": "code",
   "execution_count": 5,
   "metadata": {},
   "outputs": [],
   "source": [
    "# symbol = \"ITUB4.SA\"\n",
    "# start_date = \"2005-01-03\"\n",
    "# end_date = \"2025-03-30\"\n",
    "\n",
    "# df = yf.download(symbol, start=start_date, end=end_date)\n",
    "# df.index = pd.to_datetime(df.index)\n",
    "# display(df.head())\n",
    "# print()\n",
    "# display(df.tail())\n",
    "# print(df.shape)\n",
    "# print('##############################################################')\n",
    "\n",
    "# cols = ['Date', 'Close', 'High', 'Low', 'Open', 'Volume']\n",
    "\n",
    "# df = df.reset_index()\n",
    "# df.columns = cols\n",
    "\n",
    "# df.to_csv('datasets/itau.csv', index=False)"
   ]
  },
  {
   "cell_type": "code",
   "execution_count": 6,
   "metadata": {},
   "outputs": [],
   "source": [
    "df = pd.read_csv('datasets/itau.csv', usecols=['Date','Close'], index_col='Date', parse_dates=['Date'])"
   ]
  },
  {
   "cell_type": "code",
   "execution_count": 7,
   "metadata": {},
   "outputs": [
    {
     "data": {
      "text/html": [
       "<div>\n",
       "<style scoped>\n",
       "    .dataframe tbody tr th:only-of-type {\n",
       "        vertical-align: middle;\n",
       "    }\n",
       "\n",
       "    .dataframe tbody tr th {\n",
       "        vertical-align: top;\n",
       "    }\n",
       "\n",
       "    .dataframe thead th {\n",
       "        text-align: right;\n",
       "    }\n",
       "</style>\n",
       "<table border=\"1\" class=\"dataframe\">\n",
       "  <thead>\n",
       "    <tr style=\"text-align: right;\">\n",
       "      <th></th>\n",
       "      <th>Close</th>\n",
       "    </tr>\n",
       "    <tr>\n",
       "      <th>Date</th>\n",
       "      <th></th>\n",
       "    </tr>\n",
       "  </thead>\n",
       "  <tbody>\n",
       "    <tr>\n",
       "      <th>2005-01-03</th>\n",
       "      <td>3.161210</td>\n",
       "    </tr>\n",
       "    <tr>\n",
       "      <th>2005-01-04</th>\n",
       "      <td>3.122393</td>\n",
       "    </tr>\n",
       "    <tr>\n",
       "      <th>2005-01-05</th>\n",
       "      <td>3.091405</td>\n",
       "    </tr>\n",
       "    <tr>\n",
       "      <th>2005-01-06</th>\n",
       "      <td>3.052664</td>\n",
       "    </tr>\n",
       "    <tr>\n",
       "      <th>2005-01-07</th>\n",
       "      <td>3.048790</td>\n",
       "    </tr>\n",
       "    <tr>\n",
       "      <th>2005-01-10</th>\n",
       "      <td>3.068082</td>\n",
       "    </tr>\n",
       "    <tr>\n",
       "      <th>2005-01-11</th>\n",
       "      <td>3.027096</td>\n",
       "    </tr>\n",
       "    <tr>\n",
       "      <th>2005-01-12</th>\n",
       "      <td>2.982932</td>\n",
       "    </tr>\n",
       "    <tr>\n",
       "      <th>2005-01-13</th>\n",
       "      <td>3.068160</td>\n",
       "    </tr>\n",
       "    <tr>\n",
       "      <th>2005-01-14</th>\n",
       "      <td>3.083731</td>\n",
       "    </tr>\n",
       "  </tbody>\n",
       "</table>\n",
       "</div>"
      ],
      "text/plain": [
       "               Close\n",
       "Date                \n",
       "2005-01-03  3.161210\n",
       "2005-01-04  3.122393\n",
       "2005-01-05  3.091405\n",
       "2005-01-06  3.052664\n",
       "2005-01-07  3.048790\n",
       "2005-01-10  3.068082\n",
       "2005-01-11  3.027096\n",
       "2005-01-12  2.982932\n",
       "2005-01-13  3.068160\n",
       "2005-01-14  3.083731"
      ]
     },
     "execution_count": 7,
     "metadata": {},
     "output_type": "execute_result"
    }
   ],
   "source": [
    "df.head(10)"
   ]
  },
  {
   "cell_type": "code",
   "execution_count": 8,
   "metadata": {},
   "outputs": [],
   "source": [
    "def preencher_finais_de_semana(df):\n",
    "    df = df.copy()\n",
    "    df.index = pd.to_datetime(df.index)\n",
    "    df = df.sort_index()\n",
    "    df = df.asfreq('D')                # Cria os dias ausentes\n",
    "    df['Close'] = df['Close'].ffill() # Preenche com o último valor\n",
    "    return df"
   ]
  },
  {
   "cell_type": "code",
   "execution_count": 9,
   "metadata": {},
   "outputs": [],
   "source": [
    "df = preencher_finais_de_semana(df)"
   ]
  },
  {
   "cell_type": "code",
   "execution_count": 10,
   "metadata": {},
   "outputs": [
    {
     "data": {
      "text/html": [
       "<div>\n",
       "<style scoped>\n",
       "    .dataframe tbody tr th:only-of-type {\n",
       "        vertical-align: middle;\n",
       "    }\n",
       "\n",
       "    .dataframe tbody tr th {\n",
       "        vertical-align: top;\n",
       "    }\n",
       "\n",
       "    .dataframe thead th {\n",
       "        text-align: right;\n",
       "    }\n",
       "</style>\n",
       "<table border=\"1\" class=\"dataframe\">\n",
       "  <thead>\n",
       "    <tr style=\"text-align: right;\">\n",
       "      <th></th>\n",
       "      <th>Close</th>\n",
       "    </tr>\n",
       "    <tr>\n",
       "      <th>Date</th>\n",
       "      <th></th>\n",
       "    </tr>\n",
       "  </thead>\n",
       "  <tbody>\n",
       "    <tr>\n",
       "      <th>2005-01-03</th>\n",
       "      <td>3.161210</td>\n",
       "    </tr>\n",
       "    <tr>\n",
       "      <th>2005-01-04</th>\n",
       "      <td>3.122393</td>\n",
       "    </tr>\n",
       "    <tr>\n",
       "      <th>2005-01-05</th>\n",
       "      <td>3.091405</td>\n",
       "    </tr>\n",
       "    <tr>\n",
       "      <th>2005-01-06</th>\n",
       "      <td>3.052664</td>\n",
       "    </tr>\n",
       "    <tr>\n",
       "      <th>2005-01-07</th>\n",
       "      <td>3.048790</td>\n",
       "    </tr>\n",
       "    <tr>\n",
       "      <th>2005-01-08</th>\n",
       "      <td>3.048790</td>\n",
       "    </tr>\n",
       "    <tr>\n",
       "      <th>2005-01-09</th>\n",
       "      <td>3.048790</td>\n",
       "    </tr>\n",
       "    <tr>\n",
       "      <th>2005-01-10</th>\n",
       "      <td>3.068082</td>\n",
       "    </tr>\n",
       "    <tr>\n",
       "      <th>2005-01-11</th>\n",
       "      <td>3.027096</td>\n",
       "    </tr>\n",
       "    <tr>\n",
       "      <th>2005-01-12</th>\n",
       "      <td>2.982932</td>\n",
       "    </tr>\n",
       "  </tbody>\n",
       "</table>\n",
       "</div>"
      ],
      "text/plain": [
       "               Close\n",
       "Date                \n",
       "2005-01-03  3.161210\n",
       "2005-01-04  3.122393\n",
       "2005-01-05  3.091405\n",
       "2005-01-06  3.052664\n",
       "2005-01-07  3.048790\n",
       "2005-01-08  3.048790\n",
       "2005-01-09  3.048790\n",
       "2005-01-10  3.068082\n",
       "2005-01-11  3.027096\n",
       "2005-01-12  2.982932"
      ]
     },
     "execution_count": 10,
     "metadata": {},
     "output_type": "execute_result"
    }
   ],
   "source": [
    "df.head(10)"
   ]
  },
  {
   "cell_type": "code",
   "execution_count": 11,
   "metadata": {},
   "outputs": [
    {
     "data": {
      "text/plain": [
       "(7390, 1)"
      ]
     },
     "execution_count": 11,
     "metadata": {},
     "output_type": "execute_result"
    }
   ],
   "source": [
    "df.shape"
   ]
  },
  {
   "cell_type": "code",
   "execution_count": 12,
   "metadata": {},
   "outputs": [
    {
     "data": {
      "text/plain": [
       "Text(0, 0.5, 'ITAU')"
      ]
     },
     "execution_count": 12,
     "metadata": {},
     "output_type": "execute_result"
    },
    {
     "data": {
      "image/png": "[encoded data removed]",
      "text/plain": [
       "<Figure size 1440x720 with 1 Axes>"
      ]
     },
     "metadata": {
      "needs_background": "light"
     },
     "output_type": "display_data"
    }
   ],
   "source": [
    "plt.figure(figsize = (20,10))\n",
    "df['Close'].plot()\n",
    "plt.ylabel('ITAU')"
   ]
  },
  {
   "cell_type": "code",
   "execution_count": 13,
   "metadata": {},
   "outputs": [
    {
     "name": "stdout",
     "output_type": "stream",
     "text": [
      "<class 'pandas.core.frame.DataFrame'>\n",
      "DatetimeIndex: 7390 entries, 2005-01-03 to 2025-03-28\n",
      "Freq: D\n",
      "Data columns (total 1 columns):\n",
      " #   Column  Non-Null Count  Dtype  \n",
      "---  ------  --------------  -----  \n",
      " 0   Close   7390 non-null   float64\n",
      "dtypes: float64(1)\n",
      "memory usage: 115.5 KB\n"
     ]
    }
   ],
   "source": [
    "df.info()"
   ]
  },
  {
   "cell_type": "code",
   "execution_count": 14,
   "metadata": {},
   "outputs": [
    {
     "data": {
      "text/html": [
       "<div>\n",
       "<style scoped>\n",
       "    .dataframe tbody tr th:only-of-type {\n",
       "        vertical-align: middle;\n",
       "    }\n",
       "\n",
       "    .dataframe tbody tr th {\n",
       "        vertical-align: top;\n",
       "    }\n",
       "\n",
       "    .dataframe thead th {\n",
       "        text-align: right;\n",
       "    }\n",
       "</style>\n",
       "<table border=\"1\" class=\"dataframe\">\n",
       "  <thead>\n",
       "    <tr style=\"text-align: right;\">\n",
       "      <th></th>\n",
       "      <th>Close</th>\n",
       "    </tr>\n",
       "    <tr>\n",
       "      <th>Date</th>\n",
       "      <th></th>\n",
       "    </tr>\n",
       "  </thead>\n",
       "  <tbody>\n",
       "    <tr>\n",
       "      <th>2005-01-03</th>\n",
       "      <td>3.161210</td>\n",
       "    </tr>\n",
       "    <tr>\n",
       "      <th>2005-01-04</th>\n",
       "      <td>3.122393</td>\n",
       "    </tr>\n",
       "    <tr>\n",
       "      <th>2005-01-05</th>\n",
       "      <td>3.091405</td>\n",
       "    </tr>\n",
       "    <tr>\n",
       "      <th>2005-01-06</th>\n",
       "      <td>3.052664</td>\n",
       "    </tr>\n",
       "    <tr>\n",
       "      <th>2005-01-07</th>\n",
       "      <td>3.048790</td>\n",
       "    </tr>\n",
       "  </tbody>\n",
       "</table>\n",
       "</div>"
      ],
      "text/plain": [
       "               Close\n",
       "Date                \n",
       "2005-01-03  3.161210\n",
       "2005-01-04  3.122393\n",
       "2005-01-05  3.091405\n",
       "2005-01-06  3.052664\n",
       "2005-01-07  3.048790"
      ]
     },
     "metadata": {},
     "output_type": "display_data"
    },
    {
     "name": "stdout",
     "output_type": "stream",
     "text": [
      "(7390, 1)\n"
     ]
    }
   ],
   "source": [
    "display(df.head())\n",
    "print(df.shape)"
   ]
  },
  {
   "cell_type": "code",
   "execution_count": 15,
   "metadata": {
    "colab": {},
    "colab_type": "code",
    "id": "JoCOm0W3AfR7"
   },
   "outputs": [],
   "source": [
    "price = df.Close.values.tolist()"
   ]
  },
  {
   "cell_type": "code",
   "execution_count": 16,
   "metadata": {},
   "outputs": [],
   "source": [
    "window_size = 30 # Os últimos 30 preços\n",
    "skip = 5 # Decisão a cada 5 dias\n",
    "l = len(price) - 1 # Marca o último índice válido da lista de preços"
   ]
  },
  {
   "cell_type": "markdown",
   "metadata": {},
   "source": [
    "### Referências para o Treinamento\n",
    "\n",
    "https://arxiv.org/pdf/1703.03864\n",
    "\n",
    "https://arxiv.org/pdf/1712.06560"
   ]
  },
  {
   "cell_type": "markdown",
   "metadata": {},
   "source": [
    "### Treina os pesos para otimização"
   ]
  },
  {
   "cell_type": "code",
   "execution_count": 17,
   "metadata": {
    "colab": {},
    "colab_type": "code",
    "id": "afnkRz8kAfSA"
   },
   "outputs": [],
   "source": [
    "class PoliticaTrader:\n",
    "    inputs = None\n",
    "\n",
    "    def __init__(self, weights, reward_function, population_size, sigma, learning_rate):\n",
    "        self.weights = weights\n",
    "        self.reward_function = reward_function\n",
    "        self.population_size = population_size\n",
    "        self.sigma = sigma\n",
    "        self.learning_rate = learning_rate\n",
    "\n",
    "    def get_weights_population(self, weights, population):\n",
    "        weights_population = []\n",
    "        for index, i in enumerate(population):\n",
    "            jittered = self.sigma * i\n",
    "            weights_population.append(weights[index] + jittered)\n",
    "        return weights_population\n",
    "\n",
    "    def get_weights(self):\n",
    "        return self.weights\n",
    "\n",
    "    def treinamento(self, epoch=100, print_every=1):\n",
    "        lasttime = time.time()\n",
    "        for i in range(epoch):\n",
    "            population = []\n",
    "            rewards = np.zeros(self.population_size)\n",
    "            for _ in range(self.population_size):\n",
    "                x = [np.random.randn(*w.shape) for w in self.weights]\n",
    "                population.append(x)\n",
    "            for k in range(self.population_size):\n",
    "                weights_population = self.get_weights_population(self.weights, population[k])\n",
    "                rewards[k] = self.reward_function(weights_population)\n",
    "            rewards = (rewards - np.mean(rewards)) / np.std(rewards)\n",
    "            for index, w in enumerate(self.weights):\n",
    "                A = np.array([p[index] for p in population])\n",
    "                self.weights[index] = w + (self.learning_rate / (self.population_size * self.sigma)) * np.dot(A.T, rewards).T\n",
    "            if (i + 1) % print_every == 0:\n",
    "                print(f\"Iteração {i + 1} - Recompensa: {self.reward_function(self.weights):.6f}\")\n",
    "        print(f\"Tempo total de treinamento: {time.time() - lasttime:.2f} segundos\")"
   ]
  },
  {
   "cell_type": "markdown",
   "metadata": {},
   "source": [
    "### Arquitetura da Rede Neural"
   ]
  },
  {
   "cell_type": "code",
   "execution_count": 18,
   "metadata": {},
   "outputs": [],
   "source": [
    "class Modelo:\n",
    "    def __init__(self, input_size, layer_size, output_size):\n",
    "        self.weights = [\n",
    "            np.random.randn(input_size, layer_size),\n",
    "            np.random.randn(layer_size, output_size),\n",
    "            np.random.randn(layer_size, 1),\n",
    "            np.random.randn(1, layer_size),\n",
    "        ]\n",
    "\n",
    "    def predict(self, inputs):\n",
    "        feed = np.dot(inputs, self.weights[0]) + self.weights[-1]\n",
    "        decision = np.dot(feed, self.weights[1])\n",
    "        buy = np.dot(feed, self.weights[2])\n",
    "        return decision, buy\n",
    "\n",
    "    def get_weights(self):\n",
    "        return self.weights\n",
    "\n",
    "    def set_weights(self, weights):\n",
    "        self.weights = weights"
   ]
  },
  {
   "cell_type": "markdown",
   "metadata": {},
   "source": [
    "### Confere o estado atual do comportamento dos preços"
   ]
  },
  {
   "cell_type": "code",
   "execution_count": 19,
   "metadata": {},
   "outputs": [],
   "source": [
    "def get_state(price_data, current_index, window_size):\n",
    "    start = current_index - window_size + 1\n",
    "    window = price_data[start : current_index + 1] if start >= 0 else -start * [price_data[0]] + price_data[0 : current_index + 1]\n",
    "    differences = []\n",
    "    for i in range(window_size - 1):\n",
    "        differences.append(window[i + 1] - window[i])\n",
    "    return np.array([differences])"
   ]
  },
  {
   "cell_type": "markdown",
   "metadata": {},
   "source": [
    "### Construção do Agente que vai realizar as operações"
   ]
  },
  {
   "cell_type": "code",
   "execution_count": 20,
   "metadata": {},
   "outputs": [],
   "source": [
    "class Trader:\n",
    "    def __init__(self, population_size, sigma, learning_rate, model, money, max_buy, max_sell, skip, window_size):\n",
    "        self.window_size = window_size\n",
    "        self.skip = skip\n",
    "        self.POPULATION_SIZE = population_size\n",
    "        self.SIGMA = sigma\n",
    "        self.LEARNING_RATE = learning_rate\n",
    "        self.model = model\n",
    "        self.initial_money = money\n",
    "        self.max_buy = max_buy\n",
    "        self.max_sell = max_sell\n",
    "        self.es = PoliticaTrader(self.model.get_weights(),\n",
    "                                 self.get_reward,\n",
    "                                 self.POPULATION_SIZE,\n",
    "                                 self.SIGMA,\n",
    "                                 self.LEARNING_RATE)\n",
    "\n",
    "    def agir(self, sequence):\n",
    "        decision, buy = self.model.predict(np.array(sequence))\n",
    "        return np.argmax(decision[0]), int(buy[0])\n",
    "\n",
    "    def get_reward(self, weights):\n",
    "        initial_money = self.initial_money\n",
    "        starting_money = initial_money\n",
    "        self.model.weights = weights\n",
    "        state = get_state(price, 0, self.window_size + 1)\n",
    "        inventory = []\n",
    "        quantity = 0\n",
    "\n",
    "        for t in range(0, l, self.skip):\n",
    "            action, buy = self.agir(state)\n",
    "            next_state = get_state(price, t + 1, self.window_size + 1)\n",
    "\n",
    "            if action == 1 and initial_money >= price[t]:\n",
    "                if buy < 0:\n",
    "                    buy = 1\n",
    "                if buy > self.max_buy:\n",
    "                    buy_units = self.max_buy\n",
    "                else:\n",
    "                    buy_units = buy\n",
    "\n",
    "                total_buy = buy_units * price[t]\n",
    "                initial_money -= total_buy\n",
    "                inventory.append(total_buy)\n",
    "                quantity += buy_units\n",
    "\n",
    "            elif action == 2 and len(inventory) > 0:\n",
    "                if quantity > self.max_sell:\n",
    "                    sell_units = self.max_sell\n",
    "                else:\n",
    "                    sell_units = quantity\n",
    "\n",
    "                quantity -= sell_units\n",
    "                total_sell = sell_units * price[t]\n",
    "                initial_money += total_sell\n",
    "\n",
    "            state = next_state\n",
    "\n",
    "        return ((initial_money - starting_money) / starting_money) * 100\n",
    "\n",
    "    def fit(self, iterations, checkpoint):\n",
    "        self.es.treinamento(iterations, print_every=checkpoint)\n",
    "\n",
    "    def investir(self):\n",
    "        initial_money = self.initial_money\n",
    "        starting_money = initial_money\n",
    "        state = get_state(price, 0, self.window_size + 1)\n",
    "        states_sell = []\n",
    "        states_buy = []\n",
    "        inventory = []\n",
    "        quantity = 0\n",
    "\n",
    "        for t in range(0, l, self.skip):\n",
    "            action, buy = self.agir(state)\n",
    "            next_state = get_state(price, t + 1, self.window_size + 1)\n",
    "\n",
    "            if action == 1 and initial_money >= price[t]:\n",
    "                if buy < 0:\n",
    "                    buy = 1\n",
    "                if buy > self.max_buy:\n",
    "                    buy_units = self.max_buy\n",
    "                else:\n",
    "                    buy_units = buy\n",
    "\n",
    "                total_buy = buy_units * price[t]\n",
    "                initial_money -= total_buy\n",
    "                inventory.append(total_buy)\n",
    "                quantity += buy_units\n",
    "                states_buy.append(t)\n",
    "\n",
    "                print(f'Dia {t}: comprar {buy_units} unidades ao preço de {total_buy:.2f}, saldo total {initial_money:.2f}')\n",
    "\n",
    "            elif action == 2 and len(inventory) > 0:\n",
    "                bought_price = inventory.pop(0)\n",
    "                if quantity > self.max_sell:\n",
    "                    sell_units = self.max_sell\n",
    "                else:\n",
    "                    sell_units = quantity\n",
    "                if sell_units < 1:\n",
    "                    continue\n",
    "\n",
    "                quantity -= sell_units\n",
    "                total_sell = sell_units * price[t]\n",
    "                initial_money += total_sell\n",
    "                states_sell.append(t)\n",
    "\n",
    "                try:\n",
    "                    invest = ((total_sell - bought_price) / bought_price) * 100\n",
    "                except:\n",
    "                    invest = 0\n",
    "\n",
    "                print(f'Dia {t}, vender {sell_units} unidades ao preço de {total_sell:.2f}, investimento {invest:.2f} %, saldo total {initial_money:.2f}')\n",
    "\n",
    "            state = next_state\n",
    "\n",
    "        invest = ((initial_money - starting_money) / starting_money) * 100\n",
    "        print(f'\\nGanho Total {initial_money - starting_money:.2f}, Valor Total Investido {invest:.2f}')\n",
    "\n",
    "        plt.figure(figsize=(20, 10))\n",
    "        plt.plot(price, label='Valor Real de Fechamento', c='g')\n",
    "        plt.plot(price, 'X', label='Previsão de Compra', markevery=states_buy, c='b')\n",
    "        plt.plot(price, 'o', label='Previsão de Venda', markevery=states_sell, c='r')\n",
    "        plt.legend()\n",
    "        plt.show()"
   ]
  },
  {
   "cell_type": "markdown",
   "metadata": {},
   "source": [
    "### Busca o Melhor Trader"
   ]
  },
  {
   "cell_type": "markdown",
   "metadata": {},
   "source": [
    "- window_size:\tQuanto do histórico o agente observa\n",
    "- skip:\tFrequência das decisões\n",
    "- population_size:\tQuantas políticas são testadas por geração\n",
    "- sigma:\tQuanto ruído (exploração) é aplicado\n",
    "- learning_rate:\tVelocidade de aprendizado\n",
    "- size_network:\tTamanho da rede neural usada pelo trader"
   ]
  },
  {
   "cell_type": "code",
   "execution_count": 21,
   "metadata": {
    "colab": {},
    "colab_type": "code",
    "id": "kTkhMFr3AfSP"
   },
   "outputs": [],
   "source": [
    "def melhor_trader(window_size, skip, population_size, sigma, learning_rate, size_network):\n",
    "    model = Modelo(window_size, size_network, 3)\n",
    "    trader = Trader(population_size, sigma, learning_rate, model, 10000, 100, 100, skip, window_size)\n",
    "    try:\n",
    "        trader.fit(100, 1000)\n",
    "        return trader.es.reward_function(trader.es.weights)\n",
    "    except:\n",
    "        return 0"
   ]
  },
  {
   "cell_type": "code",
   "execution_count": 22,
   "metadata": {},
   "outputs": [],
   "source": [
    "def busca_melhor_trader(window_size, skip, population_size, sigma, learning_rate, size_network):\n",
    "\n",
    "    parametros = {\n",
    "        'window_size': int(np.around(window_size)),\n",
    "        'skip': int(np.around(skip)),\n",
    "        'population_size': int(np.around(population_size)),\n",
    "        'sigma': max(min(sigma, 1), 0.0001),\n",
    "        'learning_rate': max(min(learning_rate, 0.5), 0.000001),\n",
    "        'size_network': int(np.around(size_network)),\n",
    "    }\n",
    "\n",
    "    print(f\"\\nBuscando Parâmetros {parametros}\")\n",
    "    investimento = melhor_trader(**parametros)\n",
    "    print(f\"Após 100 iterações o investimento foi de {investimento:.2f}\")\n",
    "    return investimento"
   ]
  },
  {
   "cell_type": "markdown",
   "metadata": {},
   "source": [
    "### Otimização Bayesiana"
   ]
  },
  {
   "cell_type": "code",
   "execution_count": 23,
   "metadata": {
    "colab": {
     "base_uri": "https://localhost:8080/",
     "height": 7175
    },
    "colab_type": "code",
    "id": "50gH-DOiAfSY",
    "outputId": "47ef00b4-9f69-4861-e4bc-721ea85c9aac"
   },
   "outputs": [],
   "source": [
    "otimizacao_bayesiana = BayesianOptimization(busca_melhor_trader, {'window_size': (2, 50),\n",
    "                                                                  'skip': (1, 15),\n",
    "                                                                  'population_size': (1, 50),\n",
    "                                                                  'sigma': (0.01, 0.99),\n",
    "                                                                  'learning_rate': (0.000001, 0.49),\n",
    "                                                                  'size_network': (10, 1000),},)"
   ]
  },
  {
   "cell_type": "markdown",
   "metadata": {},
   "source": [
    "- init_points: Exploração inicial aleatória\n",
    "- n_iter: Otimização bayesiana"
   ]
  },
  {
   "cell_type": "code",
   "execution_count": 24,
   "metadata": {
    "scrolled": true
   },
   "outputs": [
    {
     "name": "stdout",
     "output_type": "stream",
     "text": [
      "|   iter    |  target   | learni... | popula... |   sigma   | size_n... |   skip    | window... |\n",
      "-------------------------------------------------------------------------------------------------\n",
      "\n",
      "Buscando Parâmetros {'window_size': 4, 'skip': 2, 'population_size': 31, 'sigma': 0.024258436468151963, 'learning_rate': 0.331419851619521, 'size_network': 229}\n"
     ]
    },
    {
     "name": "stderr",
     "output_type": "stream",
     "text": [
      "C:\\Users\\ariel\\AppData\\Local\\Temp\\ipykernel_18392\\700157817.py:20: DeprecationWarning: Conversion of an array with ndim > 0 to a scalar is deprecated, and will error in future. Ensure you extract a single element from your array before performing this operation. (Deprecated NumPy 1.25.)\n",
      "  return np.argmax(decision[0]), int(buy[0])\n",
      "C:\\Users\\ariel\\AppData\\Local\\Temp\\ipykernel_18392\\2855685633.py:32: RuntimeWarning: invalid value encountered in divide\n",
      "  rewards = (rewards - np.mean(rewards)) / np.std(rewards)\n"
     ]
    },
    {
     "name": "stdout",
     "output_type": "stream",
     "text": [
      "Após 100 iterações o investimento foi de 0.00\n",
      "| \u001b[0m1        \u001b[0m | \u001b[0m0.0      \u001b[0m | \u001b[0m0.3314   \u001b[0m | \u001b[0m30.6     \u001b[0m | \u001b[0m0.02426  \u001b[0m | \u001b[0m229.4    \u001b[0m | \u001b[0m2.171    \u001b[0m | \u001b[0m4.261    \u001b[0m |\n",
      "\n",
      "Buscando Parâmetros {'window_size': 15, 'skip': 13, 'population_size': 49, 'sigma': 0.6800658352558826, 'learning_rate': 0.42816641305200104, 'size_network': 484}\n",
      "Tempo total de treinamento: 54.23 segundos\n",
      "Após 100 iterações o investimento foi de 245.97\n",
      "| \u001b[95m2        \u001b[0m | \u001b[95m246.0    \u001b[0m | \u001b[95m0.4282   \u001b[0m | \u001b[95m49.39    \u001b[0m | \u001b[95m0.6801   \u001b[0m | \u001b[95m484.2    \u001b[0m | \u001b[95m12.58    \u001b[0m | \u001b[95m15.38    \u001b[0m |\n",
      "\n",
      "Buscando Parâmetros {'window_size': 3, 'skip': 13, 'population_size': 17, 'sigma': 0.9116158364444853, 'learning_rate': 0.4762301372624611, 'size_network': 54}\n",
      "Tempo total de treinamento: 13.27 segundos\n",
      "Após 100 iterações o investimento foi de 32.72\n",
      "| \u001b[0m3        \u001b[0m | \u001b[0m32.72    \u001b[0m | \u001b[0m0.4762   \u001b[0m | \u001b[0m17.27    \u001b[0m | \u001b[0m0.9116   \u001b[0m | \u001b[0m54.34    \u001b[0m | \u001b[0m13.36    \u001b[0m | \u001b[0m2.815    \u001b[0m |\n",
      "\n",
      "Buscando Parâmetros {'window_size': 38, 'skip': 9, 'population_size': 28, 'sigma': 0.8465307964228516, 'learning_rate': 0.3948277663922458, 'size_network': 678}\n",
      "Tempo total de treinamento: 366.05 segundos\n",
      "Após 100 iterações o investimento foi de 673.82\n",
      "| \u001b[95m4        \u001b[0m | \u001b[95m673.8    \u001b[0m | \u001b[95m0.3948   \u001b[0m | \u001b[95m27.97    \u001b[0m | \u001b[95m0.8465   \u001b[0m | \u001b[95m678.0    \u001b[0m | \u001b[95m9.21     \u001b[0m | \u001b[95m37.96    \u001b[0m |\n",
      "\n",
      "Buscando Parâmetros {'window_size': 44, 'skip': 15, 'population_size': 37, 'sigma': 0.8961281036216596, 'learning_rate': 0.16385121568010222, 'size_network': 430}\n",
      "Tempo total de treinamento: 289.02 segundos\n",
      "Após 100 iterações o investimento foi de 195.83\n",
      "| \u001b[0m5        \u001b[0m | \u001b[0m195.8    \u001b[0m | \u001b[0m0.1639   \u001b[0m | \u001b[0m37.17    \u001b[0m | \u001b[0m0.8961   \u001b[0m | \u001b[0m430.4    \u001b[0m | \u001b[0m14.85    \u001b[0m | \u001b[0m44.18    \u001b[0m |\n",
      "\n",
      "Buscando Parâmetros {'window_size': 36, 'skip': 10, 'population_size': 43, 'sigma': 0.9397873675507651, 'learning_rate': 0.32629526970756023, 'size_network': 247}\n",
      "Tempo total de treinamento: 74.07 segundos\n",
      "Após 100 iterações o investimento foi de 504.56\n",
      "| \u001b[0m6        \u001b[0m | \u001b[0m504.6    \u001b[0m | \u001b[0m0.3263   \u001b[0m | \u001b[0m42.65    \u001b[0m | \u001b[0m0.9398   \u001b[0m | \u001b[0m247.2    \u001b[0m | \u001b[0m10.19    \u001b[0m | \u001b[0m36.3     \u001b[0m |\n",
      "\n",
      "Buscando Parâmetros {'window_size': 5, 'skip': 6, 'population_size': 18, 'sigma': 0.5861901058925879, 'learning_rate': 0.1762227336036886, 'size_network': 493}\n",
      "Tempo total de treinamento: 35.38 segundos\n",
      "Após 100 iterações o investimento foi de 52.58\n",
      "| \u001b[0m7        \u001b[0m | \u001b[0m52.58    \u001b[0m | \u001b[0m0.1762   \u001b[0m | \u001b[0m17.72    \u001b[0m | \u001b[0m0.5862   \u001b[0m | \u001b[0m493.2    \u001b[0m | \u001b[0m6.481    \u001b[0m | \u001b[0m5.156    \u001b[0m |\n",
      "\n",
      "Buscando Parâmetros {'window_size': 31, 'skip': 1, 'population_size': 26, 'sigma': 0.42720800088181365, 'learning_rate': 0.1282052982260848, 'size_network': 286}\n",
      "Tempo total de treinamento: 460.86 segundos\n",
      "Após 100 iterações o investimento foi de 1370.82\n",
      "| \u001b[95m8        \u001b[0m | \u001b[95m1.371e+03\u001b[0m | \u001b[95m0.1282   \u001b[0m | \u001b[95m26.28    \u001b[0m | \u001b[95m0.4272   \u001b[0m | \u001b[95m285.9    \u001b[0m | \u001b[95m1.327    \u001b[0m | \u001b[95m30.99    \u001b[0m |\n",
      "\n",
      "Buscando Parâmetros {'window_size': 39, 'skip': 5, 'population_size': 8, 'sigma': 0.6412934988865957, 'learning_rate': 0.19011526095931203, 'size_network': 381}\n",
      "Tempo total de treinamento: 191.58 segundos\n",
      "Após 100 iterações o investimento foi de 606.73\n",
      "| \u001b[0m9        \u001b[0m | \u001b[0m606.7    \u001b[0m | \u001b[0m0.1901   \u001b[0m | \u001b[0m7.589    \u001b[0m | \u001b[0m0.6413   \u001b[0m | \u001b[0m381.0    \u001b[0m | \u001b[0m5.19     \u001b[0m | \u001b[0m39.14    \u001b[0m |\n",
      "\n",
      "Buscando Parâmetros {'window_size': 31, 'skip': 9, 'population_size': 35, 'sigma': 0.9313944208206572, 'learning_rate': 0.44093829456868694, 'size_network': 241}\n",
      "Tempo total de treinamento: 80.25 segundos\n",
      "Após 100 iterações o investimento foi de 385.79\n",
      "| \u001b[0m10       \u001b[0m | \u001b[0m385.8    \u001b[0m | \u001b[0m0.4409   \u001b[0m | \u001b[0m35.07    \u001b[0m | \u001b[0m0.9314   \u001b[0m | \u001b[0m241.3    \u001b[0m | \u001b[0m9.373    \u001b[0m | \u001b[0m31.47    \u001b[0m |\n",
      "\n",
      "Buscando Parâmetros {'window_size': 12, 'skip': 4, 'population_size': 9, 'sigma': 0.03834471535889935, 'learning_rate': 0.48543309412110164, 'size_network': 338}\n"
     ]
    },
    {
     "name": "stderr",
     "output_type": "stream",
     "text": [
      "C:\\Users\\ariel\\AppData\\Local\\Temp\\ipykernel_18392\\700157817.py:20: DeprecationWarning: Conversion of an array with ndim > 0 to a scalar is deprecated, and will error in future. Ensure you extract a single element from your array before performing this operation. (Deprecated NumPy 1.25.)\n",
      "  return np.argmax(decision[0]), int(buy[0])\n",
      "C:\\Users\\ariel\\AppData\\Local\\Temp\\ipykernel_18392\\2855685633.py:32: RuntimeWarning: invalid value encountered in divide\n",
      "  rewards = (rewards - np.mean(rewards)) / np.std(rewards)\n"
     ]
    },
    {
     "name": "stdout",
     "output_type": "stream",
     "text": [
      "Após 100 iterações o investimento foi de 0.00\n",
      "| \u001b[0m11       \u001b[0m | \u001b[0m0.0      \u001b[0m | \u001b[0m0.4854   \u001b[0m | \u001b[0m9.181    \u001b[0m | \u001b[0m0.03834  \u001b[0m | \u001b[0m338.2    \u001b[0m | \u001b[0m4.146    \u001b[0m | \u001b[0m11.8     \u001b[0m |\n",
      "\n",
      "Buscando Parâmetros {'window_size': 48, 'skip': 3, 'population_size': 25, 'sigma': 0.3459756245860737, 'learning_rate': 0.39876156529421275, 'size_network': 283}\n"
     ]
    },
    {
     "name": "stderr",
     "output_type": "stream",
     "text": [
      "C:\\Users\\ariel\\AppData\\Local\\Temp\\ipykernel_18392\\700157817.py:20: DeprecationWarning: Conversion of an array with ndim > 0 to a scalar is deprecated, and will error in future. Ensure you extract a single element from your array before performing this operation. (Deprecated NumPy 1.25.)\n",
      "  return np.argmax(decision[0]), int(buy[0])\n"
     ]
    },
    {
     "name": "stdout",
     "output_type": "stream",
     "text": [
      "Tempo total de treinamento: 1018.29 segundos\n",
      "Após 100 iterações o investimento foi de 603.24\n",
      "| \u001b[0m12       \u001b[0m | \u001b[0m603.2    \u001b[0m | \u001b[0m0.3988   \u001b[0m | \u001b[0m24.51    \u001b[0m | \u001b[0m0.346    \u001b[0m | \u001b[0m283.1    \u001b[0m | \u001b[0m3.024    \u001b[0m | \u001b[0m47.86    \u001b[0m |\n",
      "\n",
      "Buscando Parâmetros {'window_size': 34, 'skip': 11, 'population_size': 17, 'sigma': 0.6208645673900188, 'learning_rate': 0.46058003995620694, 'size_network': 114}\n"
     ]
    },
    {
     "name": "stderr",
     "output_type": "stream",
     "text": [
      "C:\\Users\\ariel\\AppData\\Local\\Temp\\ipykernel_18392\\700157817.py:20: DeprecationWarning: Conversion of an array with ndim > 0 to a scalar is deprecated, and will error in future. Ensure you extract a single element from your array before performing this operation. (Deprecated NumPy 1.25.)\n",
      "  return np.argmax(decision[0]), int(buy[0])\n"
     ]
    },
    {
     "name": "stdout",
     "output_type": "stream",
     "text": [
      "Tempo total de treinamento: 23.70 segundos\n",
      "Após 100 iterações o investimento foi de 517.27\n",
      "| \u001b[0m13       \u001b[0m | \u001b[0m517.3    \u001b[0m | \u001b[0m0.4606   \u001b[0m | \u001b[0m17.42    \u001b[0m | \u001b[0m0.6209   \u001b[0m | \u001b[0m114.4    \u001b[0m | \u001b[0m11.03    \u001b[0m | \u001b[0m34.23    \u001b[0m |\n",
      "\n",
      "Buscando Parâmetros {'window_size': 24, 'skip': 2, 'population_size': 32, 'sigma': 0.6198305158875494, 'learning_rate': 1e-06, 'size_network': 283}\n"
     ]
    },
    {
     "name": "stderr",
     "output_type": "stream",
     "text": [
      "C:\\Users\\ariel\\AppData\\Local\\Temp\\ipykernel_18392\\700157817.py:20: DeprecationWarning: Conversion of an array with ndim > 0 to a scalar is deprecated, and will error in future. Ensure you extract a single element from your array before performing this operation. (Deprecated NumPy 1.25.)\n",
      "  return np.argmax(decision[0]), int(buy[0])\n"
     ]
    },
    {
     "name": "stdout",
     "output_type": "stream",
     "text": [
      "Tempo total de treinamento: 255.11 segundos\n",
      "Após 100 iterações o investimento foi de -9.48\n",
      "| \u001b[0m14       \u001b[0m | \u001b[0m-9.479   \u001b[0m | \u001b[0m1e-06    \u001b[0m | \u001b[0m31.88    \u001b[0m | \u001b[0m0.6198   \u001b[0m | \u001b[0m283.2    \u001b[0m | \u001b[0m1.791    \u001b[0m | \u001b[0m24.25    \u001b[0m |\n",
      "\n",
      "Buscando Parâmetros {'window_size': 23, 'skip': 11, 'population_size': 24, 'sigma': 0.7719503436190507, 'learning_rate': 0.17253035285046545, 'size_network': 866}\n"
     ]
    },
    {
     "name": "stderr",
     "output_type": "stream",
     "text": [
      "C:\\Users\\ariel\\AppData\\Local\\Temp\\ipykernel_18392\\700157817.py:20: DeprecationWarning: Conversion of an array with ndim > 0 to a scalar is deprecated, and will error in future. Ensure you extract a single element from your array before performing this operation. (Deprecated NumPy 1.25.)\n",
      "  return np.argmax(decision[0]), int(buy[0])\n"
     ]
    },
    {
     "name": "stdout",
     "output_type": "stream",
     "text": [
      "Tempo total de treinamento: 259.07 segundos\n",
      "Após 100 iterações o investimento foi de 39.15\n",
      "| \u001b[0m15       \u001b[0m | \u001b[0m39.15    \u001b[0m | \u001b[0m0.1725   \u001b[0m | \u001b[0m23.61    \u001b[0m | \u001b[0m0.772    \u001b[0m | \u001b[0m865.8    \u001b[0m | \u001b[0m11.02    \u001b[0m | \u001b[0m22.5     \u001b[0m |\n",
      "\n",
      "Buscando Parâmetros {'window_size': 18, 'skip': 8, 'population_size': 16, 'sigma': 0.7484168971223226, 'learning_rate': 0.26205760171118764, 'size_network': 369}\n"
     ]
    },
    {
     "name": "stderr",
     "output_type": "stream",
     "text": [
      "C:\\Users\\ariel\\AppData\\Local\\Temp\\ipykernel_18392\\700157817.py:20: DeprecationWarning: Conversion of an array with ndim > 0 to a scalar is deprecated, and will error in future. Ensure you extract a single element from your array before performing this operation. (Deprecated NumPy 1.25.)\n",
      "  return np.argmax(decision[0]), int(buy[0])\n"
     ]
    },
    {
     "name": "stdout",
     "output_type": "stream",
     "text": [
      "Tempo total de treinamento: 32.45 segundos\n",
      "Após 100 iterações o investimento foi de 51.84\n",
      "| \u001b[0m16       \u001b[0m | \u001b[0m51.84    \u001b[0m | \u001b[0m0.2621   \u001b[0m | \u001b[0m16.48    \u001b[0m | \u001b[0m0.7484   \u001b[0m | \u001b[0m368.9    \u001b[0m | \u001b[0m8.376    \u001b[0m | \u001b[0m17.73    \u001b[0m |\n",
      "\n",
      "Buscando Parâmetros {'window_size': 35, 'skip': 13, 'population_size': 16, 'sigma': 0.7888738767830474, 'learning_rate': 0.29019097731321036, 'size_network': 653}\n"
     ]
    },
    {
     "name": "stderr",
     "output_type": "stream",
     "text": [
      "C:\\Users\\ariel\\AppData\\Local\\Temp\\ipykernel_18392\\700157817.py:20: DeprecationWarning: Conversion of an array with ndim > 0 to a scalar is deprecated, and will error in future. Ensure you extract a single element from your array before performing this operation. (Deprecated NumPy 1.25.)\n",
      "  return np.argmax(decision[0]), int(buy[0])\n"
     ]
    },
    {
     "name": "stdout",
     "output_type": "stream",
     "text": [
      "Tempo total de treinamento: 149.90 segundos\n",
      "Após 100 iterações o investimento foi de 505.43\n",
      "| \u001b[0m17       \u001b[0m | \u001b[0m505.4    \u001b[0m | \u001b[0m0.2902   \u001b[0m | \u001b[0m15.81    \u001b[0m | \u001b[0m0.7889   \u001b[0m | \u001b[0m653.1    \u001b[0m | \u001b[0m13.12    \u001b[0m | \u001b[0m34.73    \u001b[0m |\n",
      "\n",
      "Buscando Parâmetros {'window_size': 42, 'skip': 10, 'population_size': 14, 'sigma': 0.5481364440218971, 'learning_rate': 0.2088982902265291, 'size_network': 844}\n"
     ]
    },
    {
     "name": "stderr",
     "output_type": "stream",
     "text": [
      "C:\\Users\\ariel\\AppData\\Local\\Temp\\ipykernel_18392\\700157817.py:20: DeprecationWarning: Conversion of an array with ndim > 0 to a scalar is deprecated, and will error in future. Ensure you extract a single element from your array before performing this operation. (Deprecated NumPy 1.25.)\n",
      "  return np.argmax(decision[0]), int(buy[0])\n"
     ]
    },
    {
     "name": "stdout",
     "output_type": "stream",
     "text": [
      "Tempo total de treinamento: 180.80 segundos\n",
      "Após 100 iterações o investimento foi de 608.19\n",
      "| \u001b[0m18       \u001b[0m | \u001b[0m608.2    \u001b[0m | \u001b[0m0.2089   \u001b[0m | \u001b[0m13.89    \u001b[0m | \u001b[0m0.5481   \u001b[0m | \u001b[0m843.6    \u001b[0m | \u001b[0m9.726    \u001b[0m | \u001b[0m42.16    \u001b[0m |\n",
      "\n",
      "Buscando Parâmetros {'window_size': 9, 'skip': 3, 'population_size': 24, 'sigma': 0.7659116292900088, 'learning_rate': 0.42521215390733696, 'size_network': 790}\n"
     ]
    },
    {
     "name": "stderr",
     "output_type": "stream",
     "text": [
      "C:\\Users\\ariel\\AppData\\Local\\Temp\\ipykernel_18392\\700157817.py:20: DeprecationWarning: Conversion of an array with ndim > 0 to a scalar is deprecated, and will error in future. Ensure you extract a single element from your array before performing this operation. (Deprecated NumPy 1.25.)\n",
      "  return np.argmax(decision[0]), int(buy[0])\n"
     ]
    },
    {
     "name": "stdout",
     "output_type": "stream",
     "text": [
      "Tempo total de treinamento: 119.03 segundos\n",
      "Após 100 iterações o investimento foi de 376.83\n",
      "| \u001b[0m19       \u001b[0m | \u001b[0m376.8    \u001b[0m | \u001b[0m0.4252   \u001b[0m | \u001b[0m23.62    \u001b[0m | \u001b[0m0.7659   \u001b[0m | \u001b[0m790.4    \u001b[0m | \u001b[0m3.105    \u001b[0m | \u001b[0m9.266    \u001b[0m |\n",
      "\n",
      "Buscando Parâmetros {'window_size': 23, 'skip': 12, 'population_size': 8, 'sigma': 0.381504733839809, 'learning_rate': 0.03511613355793625, 'size_network': 909}\n"
     ]
    },
    {
     "name": "stderr",
     "output_type": "stream",
     "text": [
      "C:\\Users\\ariel\\AppData\\Local\\Temp\\ipykernel_18392\\700157817.py:20: DeprecationWarning: Conversion of an array with ndim > 0 to a scalar is deprecated, and will error in future. Ensure you extract a single element from your array before performing this operation. (Deprecated NumPy 1.25.)\n",
      "  return np.argmax(decision[0]), int(buy[0])\n"
     ]
    },
    {
     "name": "stdout",
     "output_type": "stream",
     "text": [
      "Tempo total de treinamento: 82.84 segundos\n",
      "Após 100 iterações o investimento foi de 302.48\n",
      "| \u001b[0m20       \u001b[0m | \u001b[0m302.5    \u001b[0m | \u001b[0m0.03512  \u001b[0m | \u001b[0m8.213    \u001b[0m | \u001b[0m0.3815   \u001b[0m | \u001b[0m909.0    \u001b[0m | \u001b[0m12.02    \u001b[0m | \u001b[0m23.28    \u001b[0m |\n",
      "=================================================================================================\n",
      "CPU times: total: 1h 1min 39s\n",
      "Wall time: 1h 2min 4s\n"
     ]
    }
   ],
   "source": [
    "%%time\n",
    "otimizacao_bayesiana.maximize(init_points = 10, n_iter = 10)"
   ]
  },
  {
   "cell_type": "code",
   "execution_count": 25,
   "metadata": {
    "scrolled": true
   },
   "outputs": [
    {
     "data": {
      "text/plain": [
       "[{'target': 0.0,\n",
       "  'params': {'learning_rate': 0.331419851619521,\n",
       "   'population_size': 30.595869172992415,\n",
       "   'sigma': 0.024258436468151963,\n",
       "   'size_network': 229.39347573721216,\n",
       "   'skip': 2.1707653753102947,\n",
       "   'window_size': 4.260930255795852}},\n",
       " {'target': 245.96811668634416,\n",
       "  'params': {'learning_rate': 0.42816641305200104,\n",
       "   'population_size': 49.38677577250064,\n",
       "   'sigma': 0.6800658352558826,\n",
       "   'size_network': 484.24295024707436,\n",
       "   'skip': 12.577757825240578,\n",
       "   'window_size': 15.384626460027375}},\n",
       " {'target': 32.71652614116668,\n",
       "  'params': {'learning_rate': 0.4762301372624611,\n",
       "   'population_size': 17.268449754694217,\n",
       "   'sigma': 0.9116158364444853,\n",
       "   'size_network': 54.33647147601505,\n",
       "   'skip': 13.356917045952846,\n",
       "   'window_size': 2.815311165301855}},\n",
       " {'target': 673.8221340417862,\n",
       "  'params': {'learning_rate': 0.3948277663922458,\n",
       "   'population_size': 27.970996140272643,\n",
       "   'sigma': 0.8465307964228516,\n",
       "   'size_network': 677.9758725244288,\n",
       "   'skip': 9.209983772408401,\n",
       "   'window_size': 37.95814358604853}},\n",
       " {'target': 195.82658093690873,\n",
       "  'params': {'learning_rate': 0.16385121568010222,\n",
       "   'population_size': 37.174272433623706,\n",
       "   'sigma': 0.8961281036216596,\n",
       "   'size_network': 430.35408901506366,\n",
       "   'skip': 14.852900222693126,\n",
       "   'window_size': 44.17778008935908}},\n",
       " {'target': 504.56219399690633,\n",
       "  'params': {'learning_rate': 0.32629526970756023,\n",
       "   'population_size': 42.654795204367005,\n",
       "   'sigma': 0.9397873675507651,\n",
       "   'size_network': 247.24859240828854,\n",
       "   'skip': 10.19430819402415,\n",
       "   'window_size': 36.29814983800607}},\n",
       " {'target': 52.58444045066833,\n",
       "  'params': {'learning_rate': 0.1762227336036886,\n",
       "   'population_size': 17.718907718908344,\n",
       "   'sigma': 0.5861901058925879,\n",
       "   'size_network': 493.23708594702424,\n",
       "   'skip': 6.481241162285341,\n",
       "   'window_size': 5.155823124364304}},\n",
       " {'target': 1370.819258351326,\n",
       "  'params': {'learning_rate': 0.1282052982260848,\n",
       "   'population_size': 26.28469619979231,\n",
       "   'sigma': 0.42720800088181365,\n",
       "   'size_network': 285.8780961394895,\n",
       "   'skip': 1.3269406895400702,\n",
       "   'window_size': 30.988888751987908}},\n",
       " {'target': 606.7344855189323,\n",
       "  'params': {'learning_rate': 0.19011526095931203,\n",
       "   'population_size': 7.589071268196591,\n",
       "   'sigma': 0.6412934988865957,\n",
       "   'size_network': 380.98371475109207,\n",
       "   'skip': 5.190169332446398,\n",
       "   'window_size': 39.1397752044189}},\n",
       " {'target': 385.787218542099,\n",
       "  'params': {'learning_rate': 0.44093829456868694,\n",
       "   'population_size': 35.06680396549647,\n",
       "   'sigma': 0.9313944208206572,\n",
       "   'size_network': 241.3045321566449,\n",
       "   'skip': 9.373299830527053,\n",
       "   'window_size': 31.46576520083085}},\n",
       " {'target': 0.0,\n",
       "  'params': {'learning_rate': 0.48543309412110164,\n",
       "   'population_size': 9.18085530947987,\n",
       "   'sigma': 0.03834471535889935,\n",
       "   'size_network': 338.24937537658826,\n",
       "   'skip': 4.146114964107403,\n",
       "   'window_size': 11.79823837912323}},\n",
       " {'target': 603.2398380851746,\n",
       "  'params': {'learning_rate': 0.39876156529421275,\n",
       "   'population_size': 24.51486039164612,\n",
       "   'sigma': 0.3459756245860737,\n",
       "   'size_network': 283.0770367689155,\n",
       "   'skip': 3.0243910751167653,\n",
       "   'window_size': 47.86001041133588}},\n",
       " {'target': 517.2726971817017,\n",
       "  'params': {'learning_rate': 0.46058003995620694,\n",
       "   'population_size': 17.423101627002143,\n",
       "   'sigma': 0.6208645673900188,\n",
       "   'size_network': 114.4315684416288,\n",
       "   'skip': 11.028340116150424,\n",
       "   'window_size': 34.22539682418074}},\n",
       " {'target': -9.478980331420898,\n",
       "  'params': {'learning_rate': 1e-06,\n",
       "   'population_size': 31.881683465204837,\n",
       "   'sigma': 0.6198305158875494,\n",
       "   'size_network': 283.17946536077335,\n",
       "   'skip': 1.79134725811189,\n",
       "   'window_size': 24.25356476563418}},\n",
       " {'target': 39.14893306732178,\n",
       "  'params': {'learning_rate': 0.17253035285046545,\n",
       "   'population_size': 23.6119528962001,\n",
       "   'sigma': 0.7719503436190507,\n",
       "   'size_network': 865.8190743655603,\n",
       "   'skip': 11.020415710984587,\n",
       "   'window_size': 22.500244937342664}},\n",
       " {'target': 51.841287524700164,\n",
       "  'params': {'learning_rate': 0.26205760171118764,\n",
       "   'population_size': 16.47817849171907,\n",
       "   'sigma': 0.7484168971223226,\n",
       "   'size_network': 368.94421585730146,\n",
       "   'skip': 8.375609361287287,\n",
       "   'window_size': 17.726437179552157}},\n",
       " {'target': 505.42517582654955,\n",
       "  'params': {'learning_rate': 0.29019097731321036,\n",
       "   'population_size': 15.812994530997955,\n",
       "   'sigma': 0.7888738767830474,\n",
       "   'size_network': 653.1247463115991,\n",
       "   'skip': 13.119908803404742,\n",
       "   'window_size': 34.725718109575325}},\n",
       " {'target': 608.1878798866272,\n",
       "  'params': {'learning_rate': 0.2088982902265291,\n",
       "   'population_size': 13.8899057850907,\n",
       "   'sigma': 0.5481364440218971,\n",
       "   'size_network': 843.5836653731046,\n",
       "   'skip': 9.726304005549109,\n",
       "   'window_size': 42.160609167446744}},\n",
       " {'target': 376.8285322570801,\n",
       "  'params': {'learning_rate': 0.42521215390733696,\n",
       "   'population_size': 23.623874481957507,\n",
       "   'sigma': 0.7659116292900088,\n",
       "   'size_network': 790.367425160759,\n",
       "   'skip': 3.1050962016047627,\n",
       "   'window_size': 9.266060341813276}},\n",
       " {'target': 302.4799937701225,\n",
       "  'params': {'learning_rate': 0.03511613355793625,\n",
       "   'population_size': 8.213236465220119,\n",
       "   'sigma': 0.381504733839809,\n",
       "   'size_network': 908.969783907736,\n",
       "   'skip': 12.016648588498224,\n",
       "   'window_size': 23.28205135141681}}]"
      ]
     },
     "execution_count": 25,
     "metadata": {},
     "output_type": "execute_result"
    }
   ],
   "source": [
    "otimizacao_bayesiana.res"
   ]
  },
  {
   "cell_type": "code",
   "execution_count": 26,
   "metadata": {},
   "outputs": [
    {
     "data": {
      "text/plain": [
       "1370.819258351326"
      ]
     },
     "execution_count": 26,
     "metadata": {},
     "output_type": "execute_result"
    }
   ],
   "source": [
    "max([dic['target'] for dic in otimizacao_bayesiana.res])"
   ]
  },
  {
   "cell_type": "code",
   "execution_count": 27,
   "metadata": {
    "scrolled": true
   },
   "outputs": [
    {
     "data": {
      "text/plain": [
       "[{'learning_rate': 0.331419851619521,\n",
       "  'population_size': 30.595869172992415,\n",
       "  'sigma': 0.024258436468151963,\n",
       "  'size_network': 229.39347573721216,\n",
       "  'skip': 2.1707653753102947,\n",
       "  'window_size': 4.260930255795852},\n",
       " {'learning_rate': 0.42816641305200104,\n",
       "  'population_size': 49.38677577250064,\n",
       "  'sigma': 0.6800658352558826,\n",
       "  'size_network': 484.24295024707436,\n",
       "  'skip': 12.577757825240578,\n",
       "  'window_size': 15.384626460027375},\n",
       " {'learning_rate': 0.4762301372624611,\n",
       "  'population_size': 17.268449754694217,\n",
       "  'sigma': 0.9116158364444853,\n",
       "  'size_network': 54.33647147601505,\n",
       "  'skip': 13.356917045952846,\n",
       "  'window_size': 2.815311165301855},\n",
       " {'learning_rate': 0.3948277663922458,\n",
       "  'population_size': 27.970996140272643,\n",
       "  'sigma': 0.8465307964228516,\n",
       "  'size_network': 677.9758725244288,\n",
       "  'skip': 9.209983772408401,\n",
       "  'window_size': 37.95814358604853},\n",
       " {'learning_rate': 0.16385121568010222,\n",
       "  'population_size': 37.174272433623706,\n",
       "  'sigma': 0.8961281036216596,\n",
       "  'size_network': 430.35408901506366,\n",
       "  'skip': 14.852900222693126,\n",
       "  'window_size': 44.17778008935908},\n",
       " {'learning_rate': 0.32629526970756023,\n",
       "  'population_size': 42.654795204367005,\n",
       "  'sigma': 0.9397873675507651,\n",
       "  'size_network': 247.24859240828854,\n",
       "  'skip': 10.19430819402415,\n",
       "  'window_size': 36.29814983800607},\n",
       " {'learning_rate': 0.1762227336036886,\n",
       "  'population_size': 17.718907718908344,\n",
       "  'sigma': 0.5861901058925879,\n",
       "  'size_network': 493.23708594702424,\n",
       "  'skip': 6.481241162285341,\n",
       "  'window_size': 5.155823124364304},\n",
       " {'learning_rate': 0.1282052982260848,\n",
       "  'population_size': 26.28469619979231,\n",
       "  'sigma': 0.42720800088181365,\n",
       "  'size_network': 285.8780961394895,\n",
       "  'skip': 1.3269406895400702,\n",
       "  'window_size': 30.988888751987908},\n",
       " {'learning_rate': 0.19011526095931203,\n",
       "  'population_size': 7.589071268196591,\n",
       "  'sigma': 0.6412934988865957,\n",
       "  'size_network': 380.98371475109207,\n",
       "  'skip': 5.190169332446398,\n",
       "  'window_size': 39.1397752044189},\n",
       " {'learning_rate': 0.44093829456868694,\n",
       "  'population_size': 35.06680396549647,\n",
       "  'sigma': 0.9313944208206572,\n",
       "  'size_network': 241.3045321566449,\n",
       "  'skip': 9.373299830527053,\n",
       "  'window_size': 31.46576520083085},\n",
       " {'learning_rate': 0.48543309412110164,\n",
       "  'population_size': 9.18085530947987,\n",
       "  'sigma': 0.03834471535889935,\n",
       "  'size_network': 338.24937537658826,\n",
       "  'skip': 4.146114964107403,\n",
       "  'window_size': 11.79823837912323},\n",
       " {'learning_rate': 0.39876156529421275,\n",
       "  'population_size': 24.51486039164612,\n",
       "  'sigma': 0.3459756245860737,\n",
       "  'size_network': 283.0770367689155,\n",
       "  'skip': 3.0243910751167653,\n",
       "  'window_size': 47.86001041133588},\n",
       " {'learning_rate': 0.46058003995620694,\n",
       "  'population_size': 17.423101627002143,\n",
       "  'sigma': 0.6208645673900188,\n",
       "  'size_network': 114.4315684416288,\n",
       "  'skip': 11.028340116150424,\n",
       "  'window_size': 34.22539682418074},\n",
       " {'learning_rate': 1e-06,\n",
       "  'population_size': 31.881683465204837,\n",
       "  'sigma': 0.6198305158875494,\n",
       "  'size_network': 283.17946536077335,\n",
       "  'skip': 1.79134725811189,\n",
       "  'window_size': 24.25356476563418},\n",
       " {'learning_rate': 0.17253035285046545,\n",
       "  'population_size': 23.6119528962001,\n",
       "  'sigma': 0.7719503436190507,\n",
       "  'size_network': 865.8190743655603,\n",
       "  'skip': 11.020415710984587,\n",
       "  'window_size': 22.500244937342664},\n",
       " {'learning_rate': 0.26205760171118764,\n",
       "  'population_size': 16.47817849171907,\n",
       "  'sigma': 0.7484168971223226,\n",
       "  'size_network': 368.94421585730146,\n",
       "  'skip': 8.375609361287287,\n",
       "  'window_size': 17.726437179552157},\n",
       " {'learning_rate': 0.29019097731321036,\n",
       "  'population_size': 15.812994530997955,\n",
       "  'sigma': 0.7888738767830474,\n",
       "  'size_network': 653.1247463115991,\n",
       "  'skip': 13.119908803404742,\n",
       "  'window_size': 34.725718109575325},\n",
       " {'learning_rate': 0.2088982902265291,\n",
       "  'population_size': 13.8899057850907,\n",
       "  'sigma': 0.5481364440218971,\n",
       "  'size_network': 843.5836653731046,\n",
       "  'skip': 9.726304005549109,\n",
       "  'window_size': 42.160609167446744},\n",
       " {'learning_rate': 0.42521215390733696,\n",
       "  'population_size': 23.623874481957507,\n",
       "  'sigma': 0.7659116292900088,\n",
       "  'size_network': 790.367425160759,\n",
       "  'skip': 3.1050962016047627,\n",
       "  'window_size': 9.266060341813276},\n",
       " {'learning_rate': 0.03511613355793625,\n",
       "  'population_size': 8.213236465220119,\n",
       "  'sigma': 0.381504733839809,\n",
       "  'size_network': 908.969783907736,\n",
       "  'skip': 12.016648588498224,\n",
       "  'window_size': 23.28205135141681}]"
      ]
     },
     "execution_count": 27,
     "metadata": {},
     "output_type": "execute_result"
    }
   ],
   "source": [
    "[dic['params'] for dic in otimizacao_bayesiana.res]"
   ]
  },
  {
   "cell_type": "code",
   "execution_count": 28,
   "metadata": {},
   "outputs": [
    {
     "name": "stdout",
     "output_type": "stream",
     "text": [
      "Learning Rate: 0.48543309412110164\n",
      "Population Size: 49.38677577250064\n",
      "Sigma: 0.9397873675507651\n",
      "Size Network: 908.969783907736\n",
      "Skip: 14.852900222693126\n",
      "Window Size: 47.86001041133588\n"
     ]
    }
   ],
   "source": [
    "print(f\"Learning Rate: {max([d['learning_rate'] for d in [dic['params'] for dic in otimizacao_bayesiana.res]])}\")\n",
    "print(f\"Population Size: {max([d['population_size'] for d in [dic['params'] for dic in otimizacao_bayesiana.res]])}\")\n",
    "print(f\"Sigma: {max([d['sigma'] for d in [dic['params'] for dic in otimizacao_bayesiana.res]])}\")\n",
    "print(f\"Size Network: {max([d['size_network'] for d in [dic['params'] for dic in otimizacao_bayesiana.res]])}\")\n",
    "print(f\"Skip: {max([d['skip'] for d in [dic['params'] for dic in otimizacao_bayesiana.res]])}\")\n",
    "print(f\"Window Size: {max([d['window_size'] for d in [dic['params'] for dic in otimizacao_bayesiana.res]])}\")"
   ]
  },
  {
   "cell_type": "markdown",
   "metadata": {},
   "source": [
    "### Execução do Bot"
   ]
  },
  {
   "cell_type": "code",
   "execution_count": 29,
   "metadata": {
    "colab": {
     "base_uri": "https://localhost:8080/",
     "height": 52
    },
    "colab_type": "code",
    "id": "bom3nsH5AfSt",
    "outputId": "02b280d8-2bce-452b-e23a-432338e8da77"
   },
   "outputs": [
    {
     "name": "stderr",
     "output_type": "stream",
     "text": [
      "C:\\Users\\ariel\\AppData\\Local\\Temp\\ipykernel_18392\\700157817.py:20: DeprecationWarning: Conversion of an array with ndim > 0 to a scalar is deprecated, and will error in future. Ensure you extract a single element from your array before performing this operation. (Deprecated NumPy 1.25.)\n",
      "  return np.argmax(decision[0]), int(buy[0])\n"
     ]
    },
    {
     "name": "stdout",
     "output_type": "stream",
     "text": [
      "Tempo total de treinamento: 425.39 segundos\n",
      "CPU times: total: 7min 9s\n",
      "Wall time: 7min 5s\n"
     ]
    },
    {
     "data": {
      "text/plain": [
       "561.8798980474472"
      ]
     },
     "execution_count": 29,
     "metadata": {},
     "output_type": "execute_result"
    }
   ],
   "source": [
    "%%time\n",
    "melhor_trader(window_size = int(np.around(max([d['window_size'] for d in [dic['params'] for dic in otimizacao_bayesiana.res]]))), \n",
    "              skip = int(np.around(max([d['skip'] for d in [dic['params'] for dic in otimizacao_bayesiana.res]]))), \n",
    "              population_size = int(max([d['population_size'] for d in [dic['params'] for dic in otimizacao_bayesiana.res]])), \n",
    "              sigma = max([d['sigma'] for d in [dic['params'] for dic in otimizacao_bayesiana.res]]), \n",
    "              learning_rate = max([d['learning_rate'] for d in [dic['params'] for dic in otimizacao_bayesiana.res]]), \n",
    "              size_network = int(np.around(max([d['size_network'] for d in [dic['params'] for dic in otimizacao_bayesiana.res]]))))"
   ]
  },
  {
   "cell_type": "code",
   "execution_count": 30,
   "metadata": {
    "colab": {
     "base_uri": "https://localhost:8080/",
     "height": 2528
    },
    "colab_type": "code",
    "id": "pTBxe6V2AfS9",
    "outputId": "dbb0317f-25dc-4a7d-8872-720736b3b12e"
   },
   "outputs": [
    {
     "name": "stdout",
     "output_type": "stream",
     "text": [
      "CPU times: total: 0 ns\n",
      "Wall time: 984 µs\n"
     ]
    }
   ],
   "source": [
    "%%time\n",
    "modelo_otim = Modelo(input_size = int(np.around(max([d['window_size'] for d in [dic['params'] for dic in otimizacao_bayesiana.res]]))), \n",
    "                     layer_size = int(np.around(max([d['size_network'] for d in [dic['params'] for dic in otimizacao_bayesiana.res]]))), \n",
    "                     output_size = 3)"
   ]
  },
  {
   "cell_type": "code",
   "execution_count": 31,
   "metadata": {},
   "outputs": [],
   "source": [
    "trader_otim = Trader(population_size = int(np.around(max([d['population_size'] for d in [dic['params'] for dic in otimizacao_bayesiana.res]]))), \n",
    "                     sigma = max([d['sigma'] for d in [dic['params'] for dic in otimizacao_bayesiana.res]]), \n",
    "                     learning_rate = max([d['learning_rate'] for d in [dic['params'] for dic in otimizacao_bayesiana.res]]), \n",
    "                     model = modelo_otim, \n",
    "                     money = 10000, \n",
    "                     max_buy = 100, \n",
    "                     max_sell = 100, \n",
    "                     skip = int(np.around(max([d['skip'] for d in [dic['params'] for dic in otimizacao_bayesiana.res]]))), \n",
    "                     window_size = int(np.around(max([d['window_size'] for d in [dic['params'] for dic in otimizacao_bayesiana.res]]))))"
   ]
  },
  {
   "cell_type": "code",
   "execution_count": 32,
   "metadata": {},
   "outputs": [
    {
     "name": "stderr",
     "output_type": "stream",
     "text": [
      "C:\\Users\\ariel\\AppData\\Local\\Temp\\ipykernel_18392\\700157817.py:20: DeprecationWarning: Conversion of an array with ndim > 0 to a scalar is deprecated, and will error in future. Ensure you extract a single element from your array before performing this operation. (Deprecated NumPy 1.25.)\n",
      "  return np.argmax(decision[0]), int(buy[0])\n"
     ]
    },
    {
     "name": "stdout",
     "output_type": "stream",
     "text": [
      "Iteração 100 - Recompensa: 516.903928\n",
      "Iteração 200 - Recompensa: 566.555376\n",
      "Iteração 300 - Recompensa: 591.611814\n",
      "Iteração 400 - Recompensa: 607.779532\n",
      "Iteração 500 - Recompensa: 670.518645\n",
      "Iteração 600 - Recompensa: 743.902229\n",
      "Iteração 700 - Recompensa: 742.509109\n",
      "Iteração 800 - Recompensa: 766.039664\n",
      "Iteração 900 - Recompensa: 784.344795\n",
      "Iteração 1000 - Recompensa: 778.338104\n",
      "Tempo total de treinamento: 4316.12 segundos\n",
      "CPU times: total: 1h 12min 23s\n",
      "Wall time: 1h 11min 56s\n"
     ]
    }
   ],
   "source": [
    "%%time\n",
    "trader_otim.fit(1000, 100)"
   ]
  },
  {
   "cell_type": "code",
   "execution_count": 33,
   "metadata": {
    "scrolled": false
   },
   "outputs": [
    {
     "name": "stdout",
     "output_type": "stream",
     "text": [
      "Dia 0: comprar 100 unidades ao preço de 316.12, saldo total 9683.88\n",
      "Dia 15: comprar 100 unidades ao preço de 303.72, saldo total 9380.16\n",
      "Dia 30: comprar 100 unidades ao preço de 316.89, saldo total 9063.27\n",
      "Dia 45: comprar 100 unidades ao preço de 346.33, saldo total 8716.94\n",
      "Dia 60: comprar 100 unidades ao preço de 376.55, saldo total 8340.40\n",
      "Dia 75: comprar 100 unidades ao preço de 354.08, saldo total 7986.32\n",
      "Dia 90: comprar 100 unidades ao preço de 336.26, saldo total 7650.06\n",
      "Dia 105: comprar 100 unidades ao preço de 322.31, saldo total 7327.75\n",
      "Dia 120: comprar 100 unidades ao preço de 334.95, saldo total 6992.80\n",
      "Dia 135: comprar 100 unidades ao preço de 331.60, saldo total 6661.20\n",
      "Dia 150: comprar 100 unidades ao preço de 356.40, saldo total 6304.80\n",
      "Dia 165: comprar 100 unidades ao preço de 339.82, saldo total 5964.98\n",
      "Dia 180: comprar 100 unidades ao preço de 340.13, saldo total 5624.84\n",
      "Dia 195: comprar 100 unidades ao preço de 342.88, saldo total 5281.96\n",
      "Dia 210: comprar 100 unidades ao preço de 357.18, saldo total 4924.79\n",
      "Dia 225: comprar 100 unidades ao preço de 367.25, saldo total 4557.54\n",
      "Dia 240: comprar 100 unidades ao preço de 381.97, saldo total 4175.57\n",
      "Dia 255: comprar 100 unidades ao preço de 387.86, saldo total 3787.71\n",
      "Dia 270: comprar 100 unidades ao preço de 412.57, saldo total 3375.13\n",
      "Dia 285: comprar 100 unidades ao preço de 397.47, saldo total 2977.67\n",
      "Dia 300: comprar 100 unidades ao preço de 396.69, saldo total 2580.98\n",
      "Dia 315: comprar 100 unidades ao preço de 417.53, saldo total 2163.44\n",
      "Dia 330: comprar 100 unidades ao preço de 433.88, saldo total 1729.56\n",
      "Dia 345: comprar 100 unidades ao preço de 445.50, saldo total 1284.06\n",
      "Dia 360: comprar 100 unidades ao preço de 436.21, saldo total 847.85\n",
      "Dia 375: comprar 100 unidades ao preço de 482.69, saldo total 365.16\n",
      "Dia 390: comprar 100 unidades ao preço de 503.61, saldo total -138.45\n",
      "Dia 450, vender 100 unidades ao preço de 509.73, investimento 61.25 %, saldo total 371.28\n",
      "Dia 465: comprar 100 unidades ao preço de 488.12, saldo total -116.84\n",
      "Dia 525, vender 100 unidades ao preço de 423.03, investimento 39.29 %, saldo total 306.20\n",
      "Dia 540: comprar 100 unidades ao preço de 451.31, saldo total -145.12\n",
      "Dia 570, vender 100 unidades ao preço de 509.04, investimento 60.64 %, saldo total 363.92\n",
      "Dia 585: comprar 100 unidades ao preço de 488.89, saldo total -124.97\n",
      "Dia 645, vender 100 unidades ao preço de 547.39, investimento 58.05 %, saldo total 422.42\n",
      "Dia 660: comprar 100 unidades ao preço de 573.34, saldo total -150.93\n",
      "Dia 825, vender 100 unidades ao preço de 574.74, investimento 52.63 %, saldo total 423.81\n",
      "Dia 840: comprar 91 unidades ao preço de 558.83, saldo total -135.02\n",
      "Dia 1035, vender 100 unidades ao preço de 737.75, investimento 108.36 %, saldo total 602.74\n",
      "Dia 1050, vender 100 unidades ao preço de 684.91, investimento 103.69 %, saldo total 1287.65\n",
      "Dia 1065, vender 100 unidades ao preço de 762.39, investimento 136.54 %, saldo total 2050.04\n",
      "Dia 1080: comprar 100 unidades ao preço de 728.15, saldo total 1321.89\n",
      "Dia 1095: comprar 100 unidades ao preço de 661.67, saldo total 660.22\n",
      "Dia 1110: comprar 100 unidades ao preço de 605.11, saldo total 55.12\n",
      "Dia 1125: comprar 100 unidades ao preço de 595.81, saldo total -540.70\n",
      "Dia 1230, vender 100 unidades ao preço de 727.99, investimento 117.34 %, saldo total 187.29\n",
      "Dia 1245: comprar 100 unidades ao preço de 781.92, saldo total -594.62\n",
      "Dia 1320, vender 100 unidades ao preço de 606.27, investimento 82.83 %, saldo total 11.65\n",
      "Dia 1335, vender 100 unidades ao preço de 595.62, investimento 67.12 %, saldo total 607.27\n",
      "Dia 1350, vender 100 unidades ao preço de 598.52, investimento 76.13 %, saldo total 1205.79\n",
      "Dia 1365: comprar 100 unidades ao preço de 562.88, saldo total 642.91\n",
      "Dia 1380, vender 100 unidades ao preço de 567.73, investimento 66.91 %, saldo total 1210.63\n",
      "Dia 1395: comprar 100 unidades ao preço de 417.61, saldo total 793.02\n",
      "Dia 1410: comprar 100 unidades ao preço de 506.71, saldo total 286.31\n",
      "Dia 1425: comprar 100 unidades ao preço de 516.01, saldo total -229.70\n",
      "Dia 1440, vender 100 unidades ao preço de 581.09, investimento 69.47 %, saldo total 351.39\n",
      "Dia 1455: comprar 100 unidades ao preço de 501.67, saldo total -150.28\n",
      "Dia 1500, vender 100 unidades ao preço de 478.43, investimento 33.95 %, saldo total 328.15\n",
      "Dia 1515: comprar 100 unidades ao preço de 437.75, saldo total -109.60\n",
      "Dia 1620, vender 100 unidades ao preço de 610.53, investimento 66.24 %, saldo total 500.93\n",
      "Dia 1635, vender 100 unidades ao preço de 598.72, investimento 56.74 %, saldo total 1099.65\n",
      "Dia 1650: comprar 100 unidades ao preço de 581.09, saldo total 518.55\n",
      "Dia 1665: comprar 100 unidades ao preço de 660.31, saldo total -141.76\n",
      "Dia 1770, vender 100 unidades ao preço de 778.55, investimento 100.73 %, saldo total 636.79\n",
      "Dia 1785: comprar 100 unidades ao preço de 807.31, saldo total -170.52\n",
      "Dia 1890, vender 100 unidades ao preço de 794.31, investimento 92.53 %, saldo total 623.79\n",
      "Dia 1905, vender 100 unidades ao preço de 794.53, investimento 99.90 %, saldo total 1418.32\n",
      "Dia 1920: comprar 100 unidades ao preço de 822.44, saldo total 595.88\n",
      "Dia 1935: comprar 100 unidades ao preço de 807.52, saldo total -211.64\n",
      "Dia 2070, vender 100 unidades ao preço de 812.74, investimento 104.88 %, saldo total 601.09\n",
      "Dia 2085: comprar 100 unidades ao preço de 830.99, saldo total -229.90\n",
      "Dia 2280, vender 100 unidades ao preço de 845.44, investimento 102.49 %, saldo total 615.55\n",
      "Dia 2295, vender 100 unidades ao preço de 804.96, investimento 85.52 %, saldo total 1420.50\n",
      "Dia 2310: comprar 100 unidades ao preço de 795.85, saldo total 624.65\n",
      "Dia 2325: comprar 100 unidades ao preço de 772.77, saldo total -148.12\n",
      "Dia 2355, vender 100 unidades ao preço de 770.64, investimento 72.98 %, saldo total 622.51\n",
      "Dia 2370: comprar 100 unidades ao preço de 794.86, saldo total -172.34\n",
      "Dia 2415, vender 100 unidades ao preço de 625.86, investimento 43.48 %, saldo total 453.52\n",
      "Dia 2430: comprar 100 unidades ao preço de 621.46, saldo total -167.94\n",
      "Dia 2640, vender 100 unidades ao preço de 833.00, investimento 72.57 %, saldo total 665.06\n",
      "Dia 2655: comprar 100 unidades ao preço de 717.75, saldo total -52.69\n",
      "Dia 2790, vender 100 unidades ao preço de 774.95, investimento 53.88 %, saldo total 722.26\n",
      "Dia 2805: comprar 100 unidades ao preço de 738.62, saldo total -16.35\n",
      "Dia 3000, vender 100 unidades ao preço de 822.83, investimento 68.57 %, saldo total 806.48\n",
      "Dia 3015: comprar 25 unidades ao preço de 197.23, saldo total 609.25\n",
      "Dia 3030: comprar 100 unidades ao preço de 779.36, saldo total -170.11\n",
      "Dia 3075, vender 100 unidades ao preço de 800.29, investimento 77.32 %, saldo total 630.18\n",
      "Dia 3090, vender 100 unidades ao preço de 753.29, investimento 54.08 %, saldo total 1383.46\n",
      "Dia 3105: comprar 100 unidades ao preço de 688.67, saldo total 694.79\n",
      "Dia 3120: comprar 100 unidades ao preço de 731.07, saldo total -36.27\n",
      "Dia 3390, vender 100 unidades ao preço de 925.19, investimento 61.37 %, saldo total 888.92\n",
      "Dia 3405: comprar 100 unidades ao preço de 981.23, saldo total -92.31\n",
      "Dia 3420, vender 100 unidades ao preço de 1003.29, investimento 79.54 %, saldo total 910.98\n",
      "Dia 3435: comprar 100 unidades ao preço de 929.08, saldo total -18.09\n",
      "Dia 3525, vender 100 unidades ao preço de 1203.35, investimento 65.26 %, saldo total 1185.25\n",
      "Dia 3540, vender 100 unidades ao preço de 1100.99, investimento 66.40 %, saldo total 2286.24\n",
      "Dia 3555, vender 100 unidades ao preço de 1120.61, investimento 85.19 %, saldo total 3406.85\n",
      "Dia 3570: comprar 100 unidades ao preço de 1130.08, saldo total 2276.78\n",
      "Dia 3585: comprar 100 unidades ao preço de 1008.15, saldo total 1268.63\n",
      "Dia 3600, vender 100 unidades ao preço de 1080.01, investimento 81.27 %, saldo total 2348.63\n",
      "Dia 3615, vender 100 unidades ao preço de 1152.60, investimento 47.41 %, saldo total 3501.23\n",
      "Dia 3630, vender 100 unidades ao preço de 1004.57, investimento 78.47 %, saldo total 4505.80\n",
      "Dia 3645: comprar 1 unidades ao preço de 10.33, saldo total 4495.47\n",
      "Dia 3660: comprar 100 unidades ao preço de 1035.37, saldo total 3460.10\n",
      "Dia 3675: comprar 100 unidades ao preço de 1025.25, saldo total 2434.85\n",
      "Dia 3690: comprar 100 unidades ao preço de 1039.77, saldo total 1395.08\n",
      "Dia 3705: comprar 100 unidades ao preço de 1120.81, saldo total 274.27\n",
      "Dia 3720: comprar 1 unidades ao preço de 10.38, saldo total 263.89\n",
      "Dia 3735: comprar 100 unidades ao preço de 1033.91, saldo total -770.02\n",
      "Dia 3750, vender 100 unidades ao preço de 1131.27, investimento 170.89 %, saldo total 361.24\n",
      "Dia 3765, vender 100 unidades ao preço de 1195.74, investimento 135.98 %, saldo total 1556.98\n",
      "Dia 3780, vender 100 unidades ao preço de 1163.85, investimento 125.55 %, saldo total 2720.83\n",
      "Dia 3795: comprar 1 unidades ao preço de 10.67, saldo total 2710.16\n",
      "Dia 3810, vender 100 unidades ao preço de 1032.58, investimento 105.83 %, saldo total 3742.74\n",
      "Dia 3825: comprar 100 unidades ao preço de 1050.63, saldo total 2692.12\n",
      "Dia 3840: comprar 100 unidades ao preço de 1061.23, saldo total 1630.88\n",
      "Dia 3855: comprar 100 unidades ao preço de 971.79, saldo total 659.09\n",
      "Dia 3870: comprar 100 unidades ao preço de 949.37, saldo total -290.28\n",
      "Dia 3885, vender 100 unidades ao preço de 881.93, investimento 101.47 %, saldo total 591.65\n",
      "Dia 3900, vender 100 unidades ao preço de 911.43, investimento 56.85 %, saldo total 1503.08\n",
      "Dia 3915: comprar 100 unidades ao preço de 900.85, saldo total 602.23\n",
      "Dia 3930: comprar 100 unidades ao preço de 1015.74, saldo total -413.51\n",
      "Dia 4155, vender 100 unidades ao preço de 1067.64, investimento 61.69 %, saldo total 654.13\n",
      "Dia 4170, vender 100 unidades ao preço de 1061.09, investimento 31.43 %, saldo total 1715.21\n",
      "Dia 4185: comprar 100 unidades ao preço de 1027.00, saldo total 688.22\n",
      "Dia 4200, vender 100 unidades ao preço de 1097.55, investimento 33.45 %, saldo total 1785.77\n",
      "Dia 4215: comprar 100 unidades ao preço de 1202.01, saldo total 583.76\n",
      "Dia 4230: comprar 100 unidades ao preço de 1252.72, saldo total -668.97\n",
      "Dia 4260, vender 100 unidades ao preço de 1320.60, investimento 63.54 %, saldo total 651.63\n",
      "Dia 4275: comprar 25 unidades ao preço de 314.50, saldo total 337.13\n",
      "Dia 4290: comprar 100 unidades ao preço de 1277.44, saldo total -940.31\n",
      "Dia 4320, vender 100 unidades ao preço de 1474.82, investimento 77.48 %, saldo total 534.51\n",
      "Dia 4335: comprar 100 unidades ao preço de 1430.87, saldo total -896.37\n",
      "Dia 4365, vender 100 unidades ao preço de 1262.35, investimento 58.62 %, saldo total 365.98\n",
      "Dia 4380, vender 100 unidades ao preço de 1360.79, investimento 76.09 %, saldo total 1726.77\n",
      "Dia 4395: comprar 100 unidades ao preço de 1447.06, saldo total 279.71\n",
      "Dia 4410: comprar 48 unidades ao preço de 718.91, saldo total -439.20\n",
      "Dia 4425, vender 100 unidades ao preço de 1609.39, investimento 102.47 %, saldo total 1170.19\n",
      "Dia 4440, vender 100 unidades ao preço de 1642.10, investimento 164.24 %, saldo total 2812.29\n",
      "Dia 4455: comprar 100 unidades ao preço de 1615.80, saldo total 1196.49\n",
      "Dia 4470: comprar 100 unidades ao preço de 1557.84, saldo total -361.35\n",
      "Dia 4515, vender 100 unidades ao preço de 1657.85, investimento 130.98 %, saldo total 1296.50\n",
      "Dia 4530: comprar 100 unidades ao preço de 1478.07, saldo total -181.58\n",
      "Dia 4590, vender 100 unidades ao preço de 1527.47, investimento 106.80 %, saldo total 1345.90\n",
      "Dia 4605: comprar 100 unidades ao preço de 1616.64, saldo total -270.75\n",
      "Dia 4785, vender 100 unidades ao preço de 2114.24, investimento 971.96 %, saldo total 1843.49\n",
      "Dia 4800, vender 100 unidades ao preço de 2322.24, investimento 197.97 %, saldo total 4165.73\n",
      "Dia 4815, vender 100 unidades ao preço de 2287.94, investimento 232.23 %, saldo total 6453.67\n",
      "Dia 4830, vender 100 unidades ao preço de 2225.70, investimento 204.45 %, saldo total 8679.37\n",
      "Dia 4845: comprar 100 unidades ao preço de 2207.94, saldo total 6471.43\n",
      "Dia 4860: comprar 100 unidades ao preço de 2211.00, saldo total 4260.43\n",
      "Dia 4875, vender 100 unidades ao preço de 2142.43, investimento 118.34 %, saldo total 6402.85\n",
      "Dia 4890: comprar 100 unidades ao preço de 1971.38, saldo total 4431.47\n",
      "Dia 4905: comprar 100 unidades ao preço de 1805.42, saldo total 2626.05\n",
      "Dia 4920: comprar 100 unidades ao preço de 1726.01, saldo total 900.05\n",
      "Dia 4935: comprar 100 unidades ao preço de 1846.98, saldo total -946.93\n",
      "Dia 5115, vender 100 unidades ao preço de 2449.58, investimento 163.66 %, saldo total 1502.65\n",
      "Dia 5130, vender 100 unidades ao preço de 2494.62, investimento 120.75 %, saldo total 3997.27\n",
      "Dia 5145, vender 100 unidades ao preço de 2630.11, investimento 160.89 %, saldo total 6627.38\n",
      "Dia 5160, vender 100 unidades ao preço de 2501.55, investimento 24120.07 %, saldo total 9128.94\n",
      "Dia 5175, vender 100 unidades ao preço de 2357.01, investimento 127.65 %, saldo total 11485.94\n",
      "Dia 5190, vender 100 unidades ao preço de 2338.07, investimento 128.05 %, saldo total 13824.01\n",
      "Dia 5205, vender 100 unidades ao preço de 2337.84, investimento 124.84 %, saldo total 16161.85\n",
      "Dia 5220, vender 100 unidades ao preço de 2221.45, investimento 98.20 %, saldo total 18383.30\n",
      "Dia 5235, vender 100 unidades ao preço de 2282.01, investimento 21874.24 %, saldo total 20665.31\n",
      "Dia 5250: comprar 100 unidades ao preço de 2187.91, saldo total 18477.40\n",
      "Dia 5265, vender 100 unidades ao preço de 2371.71, investimento 129.39 %, saldo total 20849.11\n",
      "Dia 5280, vender 100 unidades ao preço de 2396.09, investimento 22351.17 %, saldo total 23245.20\n",
      "Dia 5295, vender 100 unidades ao preço de 2506.27, investimento 138.55 %, saldo total 25751.46\n",
      "Dia 5310, vender 100 unidades ao preço de 2466.29, investimento 132.40 %, saldo total 28217.75\n",
      "Dia 5325, vender 100 unidades ao preço de 2367.81, investimento 143.66 %, saldo total 30585.56\n",
      "Dia 5340: comprar 100 unidades ao preço de 2344.52, saldo total 28241.04\n",
      "Dia 5355, vender 100 unidades ao preço de 2287.62, investimento 140.96 %, saldo total 30528.66\n",
      "Dia 5370, vender 100 unidades ao preço de 2414.64, investimento 168.04 %, saldo total 32943.29\n",
      "Dia 5385, vender 100 unidades ao preço de 2273.57, investimento 123.83 %, saldo total 35216.86\n",
      "Dia 5400: comprar 1 unidades ao preço de 23.67, saldo total 35193.19\n",
      "Dia 5415, vender 100 unidades ao preço de 2484.43, investimento 141.91 %, saldo total 37677.63\n",
      "Dia 5430: comprar 100 unidades ao preço de 2438.64, saldo total 35238.99\n",
      "Dia 5445, vender 100 unidades ao preço de 2378.50, investimento 97.88 %, saldo total 37617.48\n",
      "Dia 5460, vender 100 unidades ao preço de 2428.58, investimento 93.86 %, saldo total 40046.06\n",
      "Dia 5475, vender 100 unidades ao preço de 2539.47, investimento 707.45 %, saldo total 42585.53\n",
      "Dia 5490, vender 100 unidades ao preço de 2371.36, investimento 85.63 %, saldo total 44956.89\n",
      "Dia 5505, vender 100 unidades ao preço de 2290.55, investimento 60.08 %, saldo total 47247.44\n",
      "Dia 5520: comprar 100 unidades ao preço de 2316.37, saldo total 44931.07\n",
      "Dia 5535: comprar 100 unidades ao preço de 2226.65, saldo total 42704.42\n",
      "Dia 5550: comprar 100 unidades ao preço de 1824.62, saldo total 40879.80\n",
      "Dia 5565: comprar 100 unidades ao preço de 1678.43, saldo total 39201.38\n",
      "Dia 5580: comprar 100 unidades ao preço de 1692.75, saldo total 37508.62\n",
      "Dia 5595: comprar 100 unidades ao preço de 1648.17, saldo total 35860.45\n",
      "Dia 5610: comprar 100 unidades ao preço de 1571.99, saldo total 34288.46\n",
      "Dia 5625: comprar 100 unidades ao preço de 1606.15, saldo total 32682.32\n",
      "Dia 5640: comprar 100 unidades ao preço de 1817.86, saldo total 30864.46\n",
      "Dia 5655: comprar 100 unidades ao preço de 1793.44, saldo total 29071.02\n",
      "Dia 5670, vender 100 unidades ao preço de 1870.58, investimento 29.27 %, saldo total 30941.60\n",
      "Dia 5685, vender 100 unidades ao preço de 1929.21, investimento 168.35 %, saldo total 32870.81\n",
      "Dia 5700, vender 100 unidades ao preço de 1761.38, investimento 9.01 %, saldo total 34632.19\n",
      "Dia 5715: comprar 100 unidades ao preço de 1692.45, saldo total 32939.73\n",
      "Dia 5730: comprar 100 unidades ao preço de 1655.01, saldo total 31284.72\n",
      "Dia 5745: comprar 100 unidades ao preço de 1604.58, saldo total 29680.14\n",
      "Dia 5760: comprar 100 unidades ao preço de 1682.16, saldo total 27997.98\n",
      "Dia 5775: comprar 100 unidades ao preço de 1795.71, saldo total 26202.27\n",
      "Dia 5790: comprar 100 unidades ao preço de 2025.49, saldo total 24176.78\n",
      "Dia 5805: comprar 100 unidades ao preço de 2059.16, saldo total 22117.62\n",
      "Dia 5820: comprar 100 unidades ao preço de 2213.92, saldo total 19903.71\n",
      "Dia 5835: comprar 1 unidades ao preço de 22.46, saldo total 19881.25\n",
      "Dia 5850, vender 100 unidades ao preço de 2308.81, investimento 48.21 %, saldo total 22190.06\n",
      "Dia 5865: comprar 100 unidades ao preço de 2059.07, saldo total 20130.98\n",
      "Dia 5880: comprar 100 unidades ao preço de 1943.47, saldo total 18187.52\n",
      "Dia 5895: comprar 100 unidades ao preço de 1921.61, saldo total 16265.91\n",
      "Dia 5910: comprar 100 unidades ao preço de 1938.75, saldo total 14327.16\n",
      "Dia 5940, vender 100 unidades ao preço de 1895.42, investimento 28.24 %, saldo total 16222.59\n",
      "Dia 5955, vender 100 unidades ao preço de 1958.75, investimento 21.16 %, saldo total 18181.33\n",
      "Dia 5970, vender 100 unidades ao preço de 1971.56, investimento -10.71 %, saldo total 20152.90\n",
      "Dia 5985: comprar 100 unidades ao preço de 2094.29, saldo total 18058.60\n",
      "Dia 6000, vender 100 unidades ao preço de 2346.39, investimento 6.12 %, saldo total 20404.99\n",
      "Dia 6015: comprar 100 unidades ao preço de 2274.16, saldo total 18130.83\n",
      "Dia 6030: comprar 100 unidades ao preço de 2095.82, saldo total 16035.01\n",
      "Dia 6045: comprar 100 unidades ao preço de 2076.50, saldo total 13958.51\n",
      "Dia 6060: comprar 100 unidades ao preço de 2207.82, saldo total 11750.69\n",
      "Dia 6075: comprar 100 unidades ao preço de 2139.87, saldo total 9610.82\n",
      "Dia 6090: comprar 100 unidades ao preço de 2166.78, saldo total 7444.03\n",
      "Dia 6105: comprar 100 unidades ao preço de 1949.03, saldo total 5495.01\n",
      "Dia 6120: comprar 100 unidades ao preço de 1798.41, saldo total 3696.60\n",
      "Dia 6135: comprar 100 unidades ao preço de 1760.30, saldo total 1936.29\n",
      "Dia 6150, vender 100 unidades ao preço de 1646.62, investimento -16.47 %, saldo total 3582.91\n",
      "Dia 6165: comprar 100 unidades ao preço de 1603.44, saldo total 1979.48\n",
      "Dia 6180: comprar 100 unidades ao preço de 1677.16, saldo total 302.32\n",
      "Dia 6195, vender 100 unidades ao preço de 1541.41, investimento -14.62 %, saldo total 1843.73\n",
      "Dia 6210: comprar 100 unidades ao preço de 1615.89, saldo total 227.83\n",
      "Dia 6225: comprar 100 unidades ao preço de 1715.24, saldo total -1487.41\n",
      "Dia 6255, vender 100 unidades ao preço de 1913.21, investimento 10.85 %, saldo total 425.81\n",
      "Dia 6270, vender 100 unidades ao preço de 1805.87, investimento -2.23 %, saldo total 2231.68\n",
      "Dia 6285: comprar 100 unidades ao preço de 1928.11, saldo total 303.56\n",
      "Dia 6300: comprar 100 unidades ao preço de 1999.07, saldo total -1695.50\n",
      "Dia 6390, vender 100 unidades ao preço de 1677.63, investimento -23.32 %, saldo total -17.87\n",
      "Dia 6450, vender 100 unidades ao preço de 1949.84, investimento -16.83 %, saldo total 1931.97\n",
      "Dia 6465, vender 100 unidades ao preço de 1986.32, investimento 8291.15 %, saldo total 3918.30\n",
      "Dia 6480, vender 100 unidades ao preço de 2089.07, investimento -14.33 %, saldo total 6007.36\n",
      "Dia 6495, vender 100 unidades ao preço de 2134.47, investimento -7.85 %, saldo total 8141.83\n",
      "Dia 6510, vender 100 unidades ao preço de 2264.85, investimento 1.72 %, saldo total 10406.67\n",
      "Dia 6525, vender 100 unidades ao preço de 1986.62, investimento 8.88 %, saldo total 12393.29\n",
      "Dia 6540, vender 100 unidades ao preço de 1938.16, investimento 15.47 %, saldo total 14331.46\n",
      "Dia 6555, vender 100 unidades ao preço de 1785.26, investimento 5.46 %, saldo total 16116.71\n",
      "Dia 6570, vender 100 unidades ao preço de 1905.70, investimento 15.62 %, saldo total 18022.41\n",
      "Dia 6585, vender 100 unidades ao preço de 1971.88, investimento 25.44 %, saldo total 19994.29\n",
      "Dia 6600: comprar 100 unidades ao preço de 1901.70, saldo total 18092.59\n",
      "Dia 6615, vender 100 unidades ao preço de 2039.05, investimento 26.95 %, saldo total 20131.64\n",
      "Dia 6630, vender 100 unidades ao preço de 1941.33, investimento 6.79 %, saldo total 22072.97\n",
      "Dia 6645, vender 100 unidades ao preço de 1806.06, investimento 0.70 %, saldo total 23879.03\n",
      "Dia 6660: comprar 1 unidades ao preço de 19.05, saldo total 23859.98\n",
      "Dia 6675, vender 100 unidades ao preço de 2013.61, investimento 18.98 %, saldo total 25873.60\n",
      "Dia 6690, vender 100 unidades ao preço de 2006.65, investimento 21.25 %, saldo total 27880.24\n",
      "Dia 6705: comprar 1 unidades ao preço de 20.85, saldo total 27859.39\n",
      "Dia 6720: comprar 100 unidades ao preço de 2085.48, saldo total 25773.91\n",
      "Dia 6735: comprar 100 unidades ao preço de 2156.02, saldo total 23617.89\n",
      "Dia 6750: comprar 100 unidades ao preço de 2202.58, saldo total 21415.31\n",
      "Dia 6765, vender 100 unidades ao preço de 2237.75, investimento 39.46 %, saldo total 23653.06\n",
      "Dia 6780, vender 100 unidades ao preço de 2234.62, investimento 32.84 %, saldo total 25887.68\n",
      "Dia 6795, vender 100 unidades ao preço de 2165.49, investimento 20.59 %, saldo total 28053.17\n",
      "Dia 6810, vender 100 unidades ao preço de 2104.38, investimento 3.89 %, saldo total 30157.54\n",
      "Dia 6825, vender 100 unidades ao preço de 2151.98, investimento 4.51 %, saldo total 32309.53\n",
      "Dia 6840, vender 100 unidades ao preço de 2105.96, investimento -4.88 %, saldo total 34415.49\n",
      "Dia 6855: comprar 100 unidades ao preço de 2216.80, saldo total 32198.69\n",
      "Dia 6870: comprar 100 unidades ao preço de 2195.41, saldo total 30003.28\n",
      "Dia 6885: comprar 100 unidades ao preço de 2345.90, saldo total 27657.38\n",
      "Dia 6900: comprar 100 unidades ao preço de 2432.32, saldo total 25225.06\n",
      "Dia 6915: comprar 1 unidades ao preço de 25.60, saldo total 25199.46\n",
      "Dia 6930, vender 100 unidades ao preço de 2663.34, investimento 11759.02 %, saldo total 27862.80\n",
      "Dia 6945, vender 100 unidades ao preço de 2665.52, investimento 29.45 %, saldo total 30528.32\n",
      "Dia 6960, vender 100 unidades ao preço de 2591.93, investimento 33.37 %, saldo total 33120.25\n",
      "Dia 6975, vender 100 unidades ao preço de 2710.18, investimento 41.04 %, saldo total 35830.43\n",
      "Dia 6990, vender 100 unidades ao preço de 2841.31, investimento 46.55 %, saldo total 38671.74\n",
      "Dia 7005: comprar 1 unidades ao preço de 28.30, saldo total 38643.45\n",
      "Dia 7020, vender 100 unidades ao preço de 2817.91, investimento 34.55 %, saldo total 41461.36\n",
      "Dia 7035, vender 100 unidades ao preço de 2777.68, investimento 22.14 %, saldo total 44239.04\n",
      "Dia 7050, vender 100 unidades ao preço de 2675.67, investimento 27.67 %, saldo total 46914.72\n",
      "Dia 7065, vender 100 unidades ao preço de 2784.43, investimento 34.09 %, saldo total 49699.14\n",
      "Dia 7095: comprar 1 unidades ao preço de 26.33, saldo total 49672.82\n",
      "Dia 7110: comprar 1 unidades ao preço de 26.90, saldo total 49645.92\n",
      "Dia 7125: comprar 100 unidades ao preço de 2780.23, saldo total 46865.69\n",
      "Dia 7140: comprar 1 unidades ao preço de 28.91, saldo total 46836.78\n",
      "Dia 7155: comprar 1 unidades ao preço de 28.45, saldo total 46808.33\n",
      "Dia 7170, vender 100 unidades ao preço de 3132.24, investimento 41.87 %, saldo total 49940.57\n",
      "Dia 7185, vender 100 unidades ao preço de 3167.55, investimento 48.03 %, saldo total 53108.12\n",
      "Dia 7200, vender 100 unidades ao preço de 3061.68, investimento 41.30 %, saldo total 56169.80\n",
      "Dia 7215, vender 100 unidades ao preço de 2976.36, investimento 52.71 %, saldo total 59146.16\n",
      "Dia 7230, vender 100 unidades ao preço de 3007.91, investimento 67.25 %, saldo total 62154.07\n",
      "Dia 7245, vender 100 unidades ao preço de 3009.58, investimento 70.97 %, saldo total 65163.64\n",
      "Dia 7260, vender 100 unidades ao preço de 2952.42, investimento 84.13 %, saldo total 68116.06\n",
      "Dia 7275, vender 100 unidades ao preço de 2789.29, investimento 66.31 %, saldo total 70905.36\n",
      "Dia 7290, vender 100 unidades ao preço de 2683.21, investimento 66.05 %, saldo total 73588.56\n",
      "Dia 7305, vender 100 unidades ao preço de 2570.95, investimento 49.89 %, saldo total 76159.51\n",
      "Dia 7320, vender 100 unidades ao preço de 2789.07, investimento 44.65 %, saldo total 78948.58\n",
      "Dia 7335, vender 100 unidades ao preço de 2914.95, investimento 45.82 %, saldo total 81863.53\n",
      "Dia 7350, vender 100 unidades ao preço de 3005.32, investimento 58.03 %, saldo total 84868.85\n",
      "Dia 7365, vender 100 unidades ao preço de 2900.24, investimento 15127.20 %, saldo total 87769.09\n",
      "Dia 7380, vender 2 unidades ao preço de 64.72, investimento 210.47 %, saldo total 87833.81\n",
      "\n",
      "Ganho Total 77833.81, Valor Total Investido 778.34\n"
     ]
    },
    {
     "name": "stderr",
     "output_type": "stream",
     "text": [
      "C:\\Users\\ariel\\AppData\\Local\\Temp\\ipykernel_18392\\700157817.py:20: DeprecationWarning: Conversion of an array with ndim > 0 to a scalar is deprecated, and will error in future. Ensure you extract a single element from your array before performing this operation. (Deprecated NumPy 1.25.)\n",
      "  return np.argmax(decision[0]), int(buy[0])\n"
     ]
    },
    {
     "data": {
      "image/png": "[encoded data removed]",
      "text/plain": [
       "<Figure size 1440x720 with 1 Axes>"
      ]
     },
     "metadata": {
      "needs_background": "light"
     },
     "output_type": "display_data"
    },
    {
     "name": "stdout",
     "output_type": "stream",
     "text": [
      "CPU times: total: 438 ms\n",
      "Wall time: 372 ms\n"
     ]
    }
   ],
   "source": [
    "%%time\n",
    "trader_otim.investir()"
   ]
  },
  {
   "cell_type": "code",
   "execution_count": null,
   "metadata": {},
   "outputs": [],
   "source": []
  }
 ],
 "metadata": {
  "colab": {
   "collapsed_sections": [],
   "include_colab_link": true,
   "name": "bayesian-evolution-agent.ipynb",
   "provenance": [],
   "version": "0.3.2"
  },
  "kernelspec": {
   "display_name": "Python 3 (ipykernel)",
   "language": "python",
   "name": "python3"
  },
  "language_info": {
   "codemirror_mode": {
    "name": "ipython",
    "version": 3
   },
   "file_extension": ".py",
   "mimetype": "text/x-python",
   "name": "python",
   "nbconvert_exporter": "python",
   "pygments_lexer": "ipython3",
   "version": "3.9.12"
  }
 },
 "nbformat": 4,
 "nbformat_minor": 1
}
